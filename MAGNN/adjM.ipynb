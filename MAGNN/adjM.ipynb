{
 "cells": [
  {
   "cell_type": "code",
   "id": "initial_id",
   "metadata": {
    "collapsed": true,
    "ExecuteTime": {
     "end_time": "2024-10-17T08:33:05.375720Z",
     "start_time": "2024-10-17T08:33:05.017078Z"
    }
   },
   "source": [
    "import os\n",
    "\n",
    "from MAGNN_preprocess_utils.preprocess import get_column, assign_index, map_index_to_relation_file, export_index2dat"
   ],
   "outputs": [],
   "execution_count": 7
  },
  {
   "metadata": {},
   "cell_type": "markdown",
   "source": "# Input data preprocess",
   "id": "4814f22f13e2ef60"
  },
  {
   "metadata": {
    "ExecuteTime": {
     "end_time": "2024-10-17T08:33:05.382514Z",
     "start_time": "2024-10-17T08:33:05.380034Z"
    }
   },
   "cell_type": "code",
   "source": [
    "# list all file paths for the original relation .dat files\n",
    "file_path = os.getcwd()\n",
    "# file 1, 2: microbe-disease\n",
    "file1 = os.path.join(file_path, \"../data\", \"MAGNN_data\", \"disbiome_taxid_mondo.dat\")\n",
    "file2 = os.path.join(file_path, \"../data\", \"MAGNN_data\", \"gmmad2_taxid_mondo.dat\")\n",
    "# file 3, 4: microbe-metabolite\n",
    "file3 = os.path.join(file_path, \"../data\", \"MAGNN_data\", \"gmmad2_taxid_met.dat\")\n",
    "file4 = os.path.join(file_path, \"../data\", \"MAGNN_data\", \"hmdb_taxid_met.dat\")\n",
    "# file 5: metabolite-disease\n",
    "file5 = os.path.join(file_path, \"../data\", \"MAGNN_data\", \"hmdb_met_disease.dat\")"
   ],
   "id": "387a6ed3b6f739ce",
   "outputs": [],
   "execution_count": 8
  },
  {
   "metadata": {
    "ExecuteTime": {
     "end_time": "2024-10-17T08:33:06.158597Z",
     "start_time": "2024-10-17T08:33:05.399258Z"
    }
   },
   "cell_type": "code",
   "source": [
    "# get entity columns individually\n",
    "microbes1 = get_column(file1, colname1=\"Microbe\", colname2=\"Disease\", col=\"col1\")\n",
    "microbes2 = get_column(file2, colname1=\"Microbe\", colname2=\"Disease\", col=\"col1\")\n",
    "microbes3 = get_column(file3, colname1=\"Microbe\", colname2=\"Metabolite\", col=\"col1\")\n",
    "microbes4 = get_column(file4, colname1=\"Microbe\", colname2=\"Metabolite\", col=\"col1\")\n",
    "all_microbes = assign_index([microbes1, microbes2, microbes3, microbes4])\n",
    "\n",
    "disease1 = get_column(file1, colname1=\"Microbe\", colname2=\"Disease\", col=\"col2\")\n",
    "disease2 = get_column(file2, colname1=\"Microbe\", colname2=\"Disease\", col=\"col2\")\n",
    "disease3 = get_column(file5, colname1=\"Metabolite\", colname2=\"Disease\", col=\"col2\")\n",
    "all_diseases = assign_index([disease1, disease2, disease3])\n",
    "\n",
    "metabolite1 = get_column(file3, colname1=\"Microbe\", colname2=\"Metabolite\", col=\"col2\")\n",
    "metabolite2 = get_column(file4, colname1=\"Microbe\", colname2=\"Metabolite\", col=\"col2\")\n",
    "metabolite3 = get_column(file5, colname1=\"Metabolite\", colname2=\"Disease\", col=\"col1\")\n",
    "all_metabolites = assign_index([metabolite1, metabolite2, metabolite3])"
   ],
   "id": "7ab6766de158184a",
   "outputs": [],
   "execution_count": 9
  },
  {
   "metadata": {
    "ExecuteTime": {
     "end_time": "2024-10-17T08:33:06.195936Z",
     "start_time": "2024-10-17T08:33:06.170622Z"
    }
   },
   "cell_type": "code",
   "source": [
    "# export index file to MKG_data_processing/MAGNN/data\n",
    "export_index2dat(all_microbes, \"data/microbe_index.dat\")\n",
    "export_index2dat(all_metabolites, \"data/metabolite_index.dat\")\n",
    "export_index2dat(all_diseases, \"data/disease_index.dat\")"
   ],
   "id": "394fb593048cf912",
   "outputs": [],
   "execution_count": 10
  },
  {
   "metadata": {
    "ExecuteTime": {
     "end_time": "2024-10-17T08:33:06.751627Z",
     "start_time": "2024-10-17T08:33:06.208511Z"
    }
   },
   "cell_type": "code",
   "source": [
    "# merge two relation dfs together\n",
    "md_merged_df = map_index_to_relation_file([file1, file2], \"Microbe\", \"Disease\", all_microbes, all_diseases)\n",
    "mm_df = map_index_to_relation_file([file3, file4], \"Microbe\", \"Metabolite\", all_microbes, all_metabolites)\n",
    "metd_df = map_index_to_relation_file([file5], \"Metabolite\", \"Disease\", all_metabolites, all_diseases)"
   ],
   "id": "ae7a5f6266f518b2",
   "outputs": [],
   "execution_count": 11
  },
  {
   "metadata": {
    "ExecuteTime": {
     "end_time": "2024-10-17T08:33:07.147847Z",
     "start_time": "2024-10-17T08:33:06.763339Z"
    }
   },
   "cell_type": "code",
   "source": [
    "# export relational dfs to .dat files\n",
    "export_index2dat(md_merged_df, \"data/microbe_disease_idx.dat\")\n",
    "export_index2dat(mm_df, \"data/microbe_metabolite_idx.dat\")\n",
    "export_index2dat(metd_df, \"data/metabolite_disease_idx.dat\")"
   ],
   "id": "3e889234a60fb9e5",
   "outputs": [],
   "execution_count": 12
  },
  {
   "metadata": {},
   "cell_type": "markdown",
   "source": "# Create adjacency matrix",
   "id": "f10a944b0a5b53bd"
  },
  {
   "metadata": {
    "ExecuteTime": {
     "end_time": "2024-10-17T08:33:07.161247Z",
     "start_time": "2024-10-17T08:33:07.159423Z"
    }
   },
   "cell_type": "code",
   "source": "save_prefix = \"data/preprocessed/\"",
   "id": "c2a7bad63644bb0c",
   "outputs": [],
   "execution_count": 13
  },
  {
   "metadata": {
    "ExecuteTime": {
     "end_time": "2024-10-17T08:33:07.173792Z",
     "start_time": "2024-10-17T08:33:07.172411Z"
    }
   },
   "cell_type": "code",
   "source": "",
   "id": "dd7f1888ce6daaf2",
   "outputs": [],
   "execution_count": null
  }
 ],
 "metadata": {
  "kernelspec": {
   "display_name": "Python 3",
   "language": "python",
   "name": "python3"
  },
  "language_info": {
   "codemirror_mode": {
    "name": "ipython",
    "version": 2
   },
   "file_extension": ".py",
   "mimetype": "text/x-python",
   "name": "python",
   "nbconvert_exporter": "python",
   "pygments_lexer": "ipython2",
   "version": "2.7.6"
  }
 },
 "nbformat": 4,
 "nbformat_minor": 5
}

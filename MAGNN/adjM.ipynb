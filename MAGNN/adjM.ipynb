{
 "cells": [
  {
   "cell_type": "code",
   "id": "initial_id",
   "metadata": {
    "collapsed": true,
    "ExecuteTime": {
     "end_time": "2024-10-28T08:53:19.771196Z",
     "start_time": "2024-10-28T08:53:18.888449Z"
    }
   },
   "source": [
    "import os\n",
    "\n",
    "import pandas as pd\n",
    "import numpy as np\n",
    "import scipy \n",
    "\n",
    "from MAGNN_preprocess_utils.preprocess import (\n",
    "    get_column, \n",
    "    assign_index, \n",
    "    map_index_to_relation_file, \n",
    "    export_index2dat, \n",
    "    split_date,\n",
    "    save_split_data2npz,\n",
    "    get_metapath_adjacency_matrix\n",
    ")"
   ],
   "outputs": [],
   "execution_count": 1
  },
  {
   "metadata": {},
   "cell_type": "markdown",
   "source": "# Input data preprocess",
   "id": "4814f22f13e2ef60"
  },
  {
   "metadata": {
    "ExecuteTime": {
     "end_time": "2024-10-28T08:53:19.793662Z",
     "start_time": "2024-10-28T08:53:19.791546Z"
    }
   },
   "cell_type": "code",
   "source": [
    "# list all file paths for the original relation .dat files\n",
    "file_path = os.getcwd()\n",
    "# file 1, 2: microbe-disease\n",
    "file1 = os.path.join(file_path, \"../data\", \"MAGNN_data\", \"disbiome_taxid_mondo.dat\")\n",
    "file2 = os.path.join(file_path, \"../data\", \"MAGNN_data\", \"gmmad2_taxid_mondo.dat\")\n",
    "# file 3, 4: microbe-metabolite\n",
    "file3 = os.path.join(file_path, \"../data\", \"MAGNN_data\", \"gmmad2_taxid_met.dat\")\n",
    "file4 = os.path.join(file_path, \"../data\", \"MAGNN_data\", \"hmdb_taxid_met.dat\")\n",
    "# file 5: metabolite-disease\n",
    "file5 = os.path.join(file_path, \"../data\", \"MAGNN_data\", \"hmdb_met_disease.dat\")"
   ],
   "id": "387a6ed3b6f739ce",
   "outputs": [],
   "execution_count": 2
  },
  {
   "metadata": {
    "ExecuteTime": {
     "end_time": "2024-10-28T08:53:20.326853Z",
     "start_time": "2024-10-28T08:53:19.796309Z"
    }
   },
   "cell_type": "code",
   "source": [
    "# get entity columns individually\n",
    "microbes1 = get_column(file1, colname1=\"Microbe\", colname2=\"Disease\", col=\"col1\")\n",
    "microbes2 = get_column(file2, colname1=\"Microbe\", colname2=\"Disease\", col=\"col1\")\n",
    "microbes3 = get_column(file3, colname1=\"Microbe\", colname2=\"Metabolite\", col=\"col1\")\n",
    "microbes4 = get_column(file4, colname1=\"Microbe\", colname2=\"Metabolite\", col=\"col1\")\n",
    "all_microbes = assign_index([microbes1, microbes2, microbes3, microbes4])\n",
    "\n",
    "disease1 = get_column(file1, colname1=\"Microbe\", colname2=\"Disease\", col=\"col2\")\n",
    "disease2 = get_column(file2, colname1=\"Microbe\", colname2=\"Disease\", col=\"col2\")\n",
    "disease3 = get_column(file5, colname1=\"Metabolite\", colname2=\"Disease\", col=\"col2\")\n",
    "all_diseases = assign_index([disease1, disease2, disease3])\n",
    "\n",
    "metabolite1 = get_column(file3, colname1=\"Microbe\", colname2=\"Metabolite\", col=\"col2\")\n",
    "metabolite2 = get_column(file4, colname1=\"Microbe\", colname2=\"Metabolite\", col=\"col2\")\n",
    "metabolite3 = get_column(file5, colname1=\"Metabolite\", colname2=\"Disease\", col=\"col1\")\n",
    "all_metabolites = assign_index([metabolite1, metabolite2, metabolite3])"
   ],
   "id": "7ab6766de158184a",
   "outputs": [],
   "execution_count": 3
  },
  {
   "metadata": {
    "ExecuteTime": {
     "end_time": "2024-10-28T08:53:20.433905Z",
     "start_time": "2024-10-28T08:53:20.416018Z"
    }
   },
   "cell_type": "code",
   "source": [
    "# export index file to MKG_data_processing/MAGNN/data\n",
    "export_index2dat(all_microbes, \"data/microbe_index.dat\")\n",
    "export_index2dat(all_metabolites, \"data/metabolite_index.dat\")\n",
    "export_index2dat(all_diseases, \"data/disease_index.dat\")"
   ],
   "id": "394fb593048cf912",
   "outputs": [],
   "execution_count": 4
  },
  {
   "metadata": {
    "ExecuteTime": {
     "end_time": "2024-10-28T08:53:20.783742Z",
     "start_time": "2024-10-28T08:53:20.439828Z"
    }
   },
   "cell_type": "code",
   "source": [
    "# merge two relation dfs together\n",
    "md_merged_df = map_index_to_relation_file([file1, file2], \"Microbe\", \"Disease\", all_microbes, all_diseases)\n",
    "mm_df = map_index_to_relation_file([file3, file4], \"Microbe\", \"Metabolite\", all_microbes, all_metabolites)\n",
    "metd_df = map_index_to_relation_file([file5], \"Metabolite\", \"Disease\", all_metabolites, all_diseases)"
   ],
   "id": "ae7a5f6266f518b2",
   "outputs": [],
   "execution_count": 5
  },
  {
   "metadata": {
    "ExecuteTime": {
     "end_time": "2024-10-28T08:53:21.073919Z",
     "start_time": "2024-10-28T08:53:20.790595Z"
    }
   },
   "cell_type": "code",
   "source": [
    "# export relational dfs to .dat files\n",
    "export_index2dat(md_merged_df, \"data/microbe_disease_idx.dat\")\n",
    "export_index2dat(mm_df, \"data/microbe_metabolite_idx.dat\")\n",
    "export_index2dat(metd_df, \"data/metabolite_disease_idx.dat\")"
   ],
   "id": "3e889234a60fb9e5",
   "outputs": [],
   "execution_count": 6
  },
  {
   "metadata": {},
   "cell_type": "markdown",
   "source": "# Create adjacency matrix",
   "id": "f10a944b0a5b53bd"
  },
  {
   "metadata": {
    "ExecuteTime": {
     "end_time": "2024-10-28T08:53:21.082122Z",
     "start_time": "2024-10-28T08:53:21.080772Z"
    }
   },
   "cell_type": "code",
   "source": "save_prefix = \"data/preprocessed/\"",
   "id": "c2a7bad63644bb0c",
   "outputs": [],
   "execution_count": 7
  },
  {
   "metadata": {
    "ExecuteTime": {
     "end_time": "2024-10-28T08:53:21.144432Z",
     "start_time": "2024-10-28T08:53:21.088574Z"
    }
   },
   "cell_type": "code",
   "source": [
    "microbe_disease = pd.read_csv(\"data/microbe_disease_idx.dat\", encoding='utf-8', delimiter='\\t', names=['MicrobeIdx', 'DiseaseIdx'])\n",
    "microbe_metabolite = pd.read_csv('data/microbe_metabolite_idx.dat', encoding='utf-8', delimiter='\\t', names=['MicrobeIdx', 'MetaboliteIdx'])\n",
    "metabolite_disease = pd.read_csv('data/metabolite_disease_idx.dat', encoding='utf-8', delimiter='\\t', names=['MetaboliteIdx', 'DiseaseIdx'])\n",
    "num_microbe = 8202\n",
    "num_metabolite = 23823\n",
    "num_disease = 898"
   ],
   "id": "dd7f1888ce6daaf2",
   "outputs": [],
   "execution_count": 8
  },
  {
   "metadata": {},
   "cell_type": "markdown",
   "source": [
    "### Check for duplicate relationships in the data\n",
    "If duplicates exist, need to make increments when creating adjacency matrix \n",
    "<br>\n",
    "Microbe-Disease and Microbe-Metabolite relationships have duplicates"
   ],
   "id": "91cc5a1d3c716733"
  },
  {
   "metadata": {
    "ExecuteTime": {
     "end_time": "2024-10-28T08:53:21.176784Z",
     "start_time": "2024-10-28T08:53:21.152107Z"
    }
   },
   "cell_type": "code",
   "source": [
    "# Check for duplicates in microbe_disease data\n",
    "# if duplicates=True, need to make increments when creating adjM \n",
    "duplicates_in_microbe_disease = microbe_disease[microbe_disease.duplicated()]\n",
    "print(duplicates_in_microbe_disease)\n",
    "\n",
    "# Check for duplicates in microbe_metabolite data\n",
    "duplicates_in_microbe_metabolite = microbe_metabolite[microbe_metabolite.duplicated()]\n",
    "print(duplicates_in_microbe_metabolite)\n",
    "\n",
    "# Check for duplicates in metabolite_disease data\n",
    "duplicates_in_metabolite_disease = metabolite_disease[metabolite_disease.duplicated()]\n",
    "print(duplicates_in_metabolite_disease)"
   ],
   "id": "b89d8d0e593f1fd3",
   "outputs": [
    {
     "name": "stdout",
     "output_type": "stream",
     "text": [
      "        MicrobeIdx  DiseaseIdx\n",
      "5083            62          48\n",
      "5278            10         115\n",
      "5504            92           8\n",
      "7773           153          48\n",
      "8396           498         187\n",
      "...            ...         ...\n",
      "501973         221          94\n",
      "503661         182          40\n",
      "504745           7          94\n",
      "505352         247          29\n",
      "505647         255           8\n",
      "\n",
      "[527 rows x 2 columns]\n",
      "        MicrobeIdx  MetaboliteIdx\n",
      "598604          41            586\n",
      "598635          41             45\n",
      "598671          41            720\n",
      "598714          41            772\n",
      "598737          41            795\n",
      "598774          41            675\n",
      "598807          41            734\n",
      "598833          41            125\n",
      "598844          41            116\n",
      "598854          41            600\n",
      "598855          49           1412\n",
      "598858          41            988\n",
      "598895         177            309\n",
      "598913          41            260\n",
      "598921         177            118\n",
      "598943          41            976\n",
      "598995          41            380\n",
      "599070          41            867\n",
      "599102          41           1527\n",
      "599130         177            734\n",
      "599133          41           1323\n",
      "599142          41            309\n",
      "599163         196           1171\n",
      "599170          41            118\n",
      "599180          41             50\n",
      "599184          41            665\n",
      "Empty DataFrame\n",
      "Columns: [MetaboliteIdx, DiseaseIdx]\n",
      "Index: []\n"
     ]
    }
   ],
   "execution_count": 9
  },
  {
   "metadata": {},
   "cell_type": "markdown",
   "source": "# Split data into training, validation, and testing sets",
   "id": "ca26263ddeacda71"
  },
  {
   "metadata": {
    "ExecuteTime": {
     "end_time": "2024-10-28T08:53:21.197474Z",
     "start_time": "2024-10-28T08:53:21.184601Z"
    }
   },
   "cell_type": "code",
   "source": [
    "md_train, md_val, md_test = split_date(microbe_disease, train_ratio=0.7, val_ratio=0.2, test_ratio=0.1)\n",
    "# save_split_data2npz(md_train, md_val, md_test, \"data/micro_disease_train_val_test_idx.npz\")"
   ],
   "id": "47dddde209dbf16a",
   "outputs": [],
   "execution_count": 10
  },
  {
   "metadata": {
    "ExecuteTime": {
     "end_time": "2024-10-28T08:53:21.217263Z",
     "start_time": "2024-10-28T08:53:21.206216Z"
    }
   },
   "cell_type": "code",
   "source": [
    "# training: 70%, validation: 20%, testing: 10%\n",
    "train_val_test_idx = np.load(\"data/micro_disease_train_val_test_idx.npz\")\n",
    "train_idx = train_val_test_idx['train']\n",
    "val_idx = train_val_test_idx['val']\n",
    "test_idx = train_val_test_idx['test']\n",
    "\n",
    "# reset microbe-disease index \n",
    "microbe_disease = microbe_disease.loc[train_idx].reset_index(drop=True)\n",
    "microbe_disease.head()\n",
    "print(f\"Length of Training data: {len(microbe_disease)}\")"
   ],
   "id": "45bded2908a94709",
   "outputs": [
    {
     "name": "stdout",
     "output_type": "stream",
     "text": [
      "Length of Training data: 354096\n"
     ]
    }
   ],
   "execution_count": 11
  },
  {
   "metadata": {
    "ExecuteTime": {
     "end_time": "2024-10-28T08:53:30.437471Z",
     "start_time": "2024-10-28T08:53:21.226572Z"
    }
   },
   "cell_type": "code",
   "source": [
    "# build adjacency matrix\n",
    "# 0 for microbe, 1 for disease, 2 for metabolite\n",
    "dim = num_microbe + num_disease + num_metabolite\n",
    "\n",
    "type_mask = np.zeros(dim, dtype=int)\n",
    "type_mask[num_microbe:num_microbe+num_disease] = 1\n",
    "type_mask[num_microbe+num_disease:]=2\n",
    "\n",
    "adjM = np.zeros((dim, dim), dtype=int)\n",
    "for _, row in microbe_disease.iterrows():\n",
    "    microID = row[\"MicrobeIdx\"]\n",
    "    diseaseID = num_microbe + row[\"DiseaseIdx\"]\n",
    "    # increment accounts for multiple links exist between same microbe and disease relationships\n",
    "    adjM[microID, diseaseID] += 1\n",
    "    adjM[diseaseID, microID] += 1\n",
    "for _, row in microbe_metabolite.iterrows():\n",
    "    microID = row[\"MicrobeIdx\"]\n",
    "    metID = num_microbe + num_disease + row[\"MetaboliteIdx\"]\n",
    "    adjM[microID, metID] += 1\n",
    "    adjM[metID, microID] += 1\n",
    "for _, row in metabolite_disease.iterrows():\n",
    "    metID = num_microbe + num_disease + row[\"MetaboliteIdx\"]\n",
    "    diseaseID = num_microbe + row[\"DiseaseIdx\"]\n",
    "    adjM[metID, diseaseID] = 1\n",
    "    adjM[diseaseID, metID] = 1"
   ],
   "id": "1200849287283faf",
   "outputs": [],
   "execution_count": 12
  },
  {
   "metadata": {},
   "cell_type": "markdown",
   "source": "#### Check for non-zero entries in the adjacency matrix",
   "id": "997a6338a192cd"
  },
  {
   "metadata": {
    "ExecuteTime": {
     "end_time": "2024-10-28T08:53:30.451777Z",
     "start_time": "2024-10-28T08:53:30.448675Z"
    }
   },
   "cell_type": "code",
   "source": [
    "# example of non-zero entries in the adjacency matrix\n",
    "adjM[8202:8212, 0:10]"
   ],
   "id": "dc0907aed90e0284",
   "outputs": [
    {
     "data": {
      "text/plain": [
       "array([[1, 0, 0, 0, 0, 0, 0, 0, 0, 0],\n",
       "       [1, 1, 1, 0, 1, 0, 0, 0, 0, 0],\n",
       "       [0, 0, 0, 0, 0, 0, 0, 0, 0, 0],\n",
       "       [0, 0, 0, 1, 1, 0, 1, 0, 0, 0],\n",
       "       [0, 0, 0, 0, 1, 1, 0, 0, 0, 0],\n",
       "       [0, 1, 0, 1, 0, 1, 1, 1, 1, 0],\n",
       "       [0, 0, 0, 0, 0, 0, 0, 0, 1, 0],\n",
       "       [0, 0, 0, 0, 0, 0, 0, 0, 0, 0],\n",
       "       [0, 2, 0, 0, 1, 0, 1, 1, 2, 0],\n",
       "       [0, 0, 0, 0, 0, 0, 0, 0, 1, 1]])"
      ]
     },
     "execution_count": 13,
     "metadata": {},
     "output_type": "execute_result"
    }
   ],
   "execution_count": 13
  },
  {
   "metadata": {},
   "cell_type": "markdown",
   "source": "## Metapath Analysis",
   "id": "5de53dc1b1a9da16"
  },
  {
   "metadata": {
    "ExecuteTime": {
     "end_time": "2024-10-29T10:14:46.930781Z",
     "start_time": "2024-10-29T10:14:46.924895Z"
    }
   },
   "cell_type": "code",
   "source": "# TODO: Ways to summarize and compare the non-zero metapath adjacency matrix?",
   "id": "a84002743fcca765",
   "outputs": [],
   "execution_count": 28
  },
  {
   "metadata": {},
   "cell_type": "markdown",
   "source": "### Total path count analysis",
   "id": "4d4c9675b32a898c"
  },
  {
   "metadata": {
    "ExecuteTime": {
     "end_time": "2024-10-29T10:19:58.897108Z",
     "start_time": "2024-10-29T10:19:12.955534Z"
    }
   },
   "cell_type": "code",
   "source": [
    "expected_metapath_l3 = [\n",
    "    [0, 1, 0],\n",
    "    [0, 1, 2],\n",
    "    [0, 2, 0],\n",
    "    [0, 2, 1],\n",
    "    [1, 0, 1],\n",
    "    [1, 0, 2],\n",
    "    [1, 2, 0],\n",
    "    [1, 2, 1],\n",
    "    [2, 0, 1],\n",
    "    [2, 0, 2],\n",
    "    [2, 1, 0],\n",
    "    [2, 1, 2]\n",
    "]\n",
    "\n",
    "metapath_strengths_l = []\n",
    "\n",
    "for metapath in expected_metapath_l3:\n",
    "    metapath_adjM = get_metapath_adjacency_matrix(adjM, type_mask, metapath)\n",
    "    \n",
    "    print(metapath_adjM.sum())\n",
    "    non_zero_values = metapath_adjM[metapath_adjM > 0]\n",
    "    max_strength = non_zero_values.max() if non_zero_values.size > 0 else 0\n",
    "    min_strength = non_zero_values.min() if non_zero_values.size > 0 else 0\n",
    "    mean_strength = non_zero_values.mean() if non_zero_values.size > 0 else 0\n",
    "    \n",
    "    metapath_strengths = {\n",
    "        \"max\": max_strength,\n",
    "        \"min\": min_strength,\n",
    "        \"mean\": mean_strength\n",
    "    }\n",
    "    metapath_strengths_l.append(metapath_strengths)\n",
    "    metapath_df = pd.DataFrame(metapath_strengths_l)"
   ],
   "id": "683142a529810fa6",
   "outputs": [
    {
     "name": "stdout",
     "output_type": "stream",
     "text": [
      "1511417774\n",
      "3130452\n",
      "384891158\n",
      "1497403\n",
      "20477412\n",
      "2037517\n",
      "1497403\n",
      "92218\n",
      "2037517\n",
      "437895926\n",
      "3130452\n",
      "402996188\n"
     ]
    }
   ],
   "execution_count": 29
  },
  {
   "metadata": {
    "ExecuteTime": {
     "end_time": "2024-10-29T10:11:22.412588Z",
     "start_time": "2024-10-29T10:11:22.403771Z"
    }
   },
   "cell_type": "code",
   "source": "metapath_df",
   "id": "44ac1f1e1b258868",
   "outputs": [
    {
     "data": {
      "text/plain": [
       "      max  min        mean\n",
       "0     127    1   33.701239\n",
       "1      10    1    1.331122\n",
       "2    1011    1  371.274302\n",
       "3     159    1    4.813284\n",
       "4    4555    1  346.628275\n",
       "5      48    1   14.502210\n",
       "6     159    1    4.813284\n",
       "7   20017    1    3.185313\n",
       "8      48    1   14.502210\n",
       "9     906    1  199.866325\n",
       "10     10    1    1.331122\n",
       "11     78    1    1.001619"
      ],
      "text/html": [
       "<div>\n",
       "<style scoped>\n",
       "    .dataframe tbody tr th:only-of-type {\n",
       "        vertical-align: middle;\n",
       "    }\n",
       "\n",
       "    .dataframe tbody tr th {\n",
       "        vertical-align: top;\n",
       "    }\n",
       "\n",
       "    .dataframe thead th {\n",
       "        text-align: right;\n",
       "    }\n",
       "</style>\n",
       "<table border=\"1\" class=\"dataframe\">\n",
       "  <thead>\n",
       "    <tr style=\"text-align: right;\">\n",
       "      <th></th>\n",
       "      <th>max</th>\n",
       "      <th>min</th>\n",
       "      <th>mean</th>\n",
       "    </tr>\n",
       "  </thead>\n",
       "  <tbody>\n",
       "    <tr>\n",
       "      <th>0</th>\n",
       "      <td>127</td>\n",
       "      <td>1</td>\n",
       "      <td>33.701239</td>\n",
       "    </tr>\n",
       "    <tr>\n",
       "      <th>1</th>\n",
       "      <td>10</td>\n",
       "      <td>1</td>\n",
       "      <td>1.331122</td>\n",
       "    </tr>\n",
       "    <tr>\n",
       "      <th>2</th>\n",
       "      <td>1011</td>\n",
       "      <td>1</td>\n",
       "      <td>371.274302</td>\n",
       "    </tr>\n",
       "    <tr>\n",
       "      <th>3</th>\n",
       "      <td>159</td>\n",
       "      <td>1</td>\n",
       "      <td>4.813284</td>\n",
       "    </tr>\n",
       "    <tr>\n",
       "      <th>4</th>\n",
       "      <td>4555</td>\n",
       "      <td>1</td>\n",
       "      <td>346.628275</td>\n",
       "    </tr>\n",
       "    <tr>\n",
       "      <th>5</th>\n",
       "      <td>48</td>\n",
       "      <td>1</td>\n",
       "      <td>14.502210</td>\n",
       "    </tr>\n",
       "    <tr>\n",
       "      <th>6</th>\n",
       "      <td>159</td>\n",
       "      <td>1</td>\n",
       "      <td>4.813284</td>\n",
       "    </tr>\n",
       "    <tr>\n",
       "      <th>7</th>\n",
       "      <td>20017</td>\n",
       "      <td>1</td>\n",
       "      <td>3.185313</td>\n",
       "    </tr>\n",
       "    <tr>\n",
       "      <th>8</th>\n",
       "      <td>48</td>\n",
       "      <td>1</td>\n",
       "      <td>14.502210</td>\n",
       "    </tr>\n",
       "    <tr>\n",
       "      <th>9</th>\n",
       "      <td>906</td>\n",
       "      <td>1</td>\n",
       "      <td>199.866325</td>\n",
       "    </tr>\n",
       "    <tr>\n",
       "      <th>10</th>\n",
       "      <td>10</td>\n",
       "      <td>1</td>\n",
       "      <td>1.331122</td>\n",
       "    </tr>\n",
       "    <tr>\n",
       "      <th>11</th>\n",
       "      <td>78</td>\n",
       "      <td>1</td>\n",
       "      <td>1.001619</td>\n",
       "    </tr>\n",
       "  </tbody>\n",
       "</table>\n",
       "</div>"
      ]
     },
     "execution_count": 27,
     "metadata": {},
     "output_type": "execute_result"
    }
   ],
   "execution_count": 27
  },
  {
   "metadata": {
    "ExecuteTime": {
     "end_time": "2024-10-29T02:25:40.070226Z",
     "start_time": "2024-10-29T02:24:53.716815Z"
    }
   },
   "cell_type": "code",
   "source": [
    "expected_metapath_l4 = [\n",
    "    [0, 1, 0, 1],\n",
    "    [0, 1, 0, 2],\n",
    "    [0, 1, 2, 0],\n",
    "    [0, 1, 2, 1],\n",
    "    [0, 2, 0, 1],\n",
    "    [0, 2, 0, 2],\n",
    "    [0, 2, 1, 0],\n",
    "    [0, 2, 1, 2],\n",
    "    [1, 0, 1, 0],\n",
    "    [1, 0, 1, 2],\n",
    "    [1, 0, 2, 0],\n",
    "    [1, 0, 2, 1],\n",
    "    [1, 2, 0, 1],\n",
    "    [1, 2, 0, 2],\n",
    "    [1, 2, 1, 0],\n",
    "    [1, 2, 1, 2],\n",
    "    [2, 1, 0, 1],\n",
    "    [2, 1, 0, 2],\n",
    "    [2, 1, 2, 0],\n",
    "    [2, 1, 2, 1]\n",
    "]\n",
    "\n",
    "metapath_strengths_l = []\n",
    "\n",
    "for metapath in expected_metapath_l4:\n",
    "    metapath_adjM = get_metapath_adjacency_matrix(adjM, type_mask, metapath)\n",
    "    \n",
    "    non_zero_values = metapath_adjM[metapath_adjM > 0]\n",
    "    max_strength = non_zero_values.max() if non_zero_values.size > 0 else 0\n",
    "    min_strength = non_zero_values.min() if non_zero_values.size > 0 else 0\n",
    "    mean_strength = non_zero_values.mean() if non_zero_values.size > 0 else 0\n",
    "    \n",
    "    metapath_strengths = {\n",
    "        \"metapath\": metapath,\n",
    "        \"max\": max_strength,\n",
    "        \"min\": min_strength,\n",
    "        \"mean\": mean_strength\n",
    "    }\n",
    "    \n",
    "    metapath_strengths_l.append(metapath_strengths)\n",
    "\n",
    "metapath_df = pd.DataFrame(metapath_strengths_l)"
   ],
   "id": "c0c80fb2b8b1bb20",
   "outputs": [],
   "execution_count": 22
  },
  {
   "metadata": {},
   "cell_type": "markdown",
   "source": "",
   "id": "990ae7819f4959f"
  },
  {
   "metadata": {
    "ExecuteTime": {
     "end_time": "2024-10-29T02:25:40.107272Z",
     "start_time": "2024-10-29T02:25:40.098684Z"
    }
   },
   "cell_type": "code",
   "source": "metapath_df",
   "id": "4225d5b77cc15866",
   "outputs": [
    {
     "data": {
      "text/plain": [
       "        metapath     max  min           mean\n",
       "0   [0, 1, 0, 1]  220828    1   38881.417479\n",
       "1   [0, 1, 0, 2]    2882    1     866.685620\n",
       "2   [0, 1, 2, 0]     567    1      99.787564\n",
       "3   [0, 1, 2, 1]    1372    1      12.768375\n",
       "4   [0, 2, 0, 1]   26202    1    5770.010543\n",
       "5   [0, 2, 0, 2]  562988    1  143093.646563\n",
       "6   [0, 2, 1, 0]     567    1      99.787564\n",
       "7   [0, 2, 1, 2]    1250    1      11.798923\n",
       "8   [1, 0, 1, 0]  220828    1   38881.417479\n",
       "9   [1, 0, 1, 2]   19757    1     527.937355\n",
       "10  [1, 0, 2, 0]   26202    1    5770.010543\n",
       "11  [1, 0, 2, 1]    5199    1     103.902362\n",
       "12  [1, 2, 0, 1]    5199    1     103.902362\n",
       "13  [1, 2, 0, 2]   98984    1    1502.852164\n",
       "14  [1, 2, 1, 0]    1372    1      12.768375\n",
       "15  [1, 2, 1, 2]   20049    1     269.561607\n",
       "16  [2, 1, 0, 1]   19757    1     527.937355\n",
       "17  [2, 1, 0, 2]     258    1      13.861776\n",
       "18  [2, 1, 2, 0]    1250    1      11.798923\n",
       "19  [2, 1, 2, 1]   20049    1     269.561607"
      ],
      "text/html": [
       "<div>\n",
       "<style scoped>\n",
       "    .dataframe tbody tr th:only-of-type {\n",
       "        vertical-align: middle;\n",
       "    }\n",
       "\n",
       "    .dataframe tbody tr th {\n",
       "        vertical-align: top;\n",
       "    }\n",
       "\n",
       "    .dataframe thead th {\n",
       "        text-align: right;\n",
       "    }\n",
       "</style>\n",
       "<table border=\"1\" class=\"dataframe\">\n",
       "  <thead>\n",
       "    <tr style=\"text-align: right;\">\n",
       "      <th></th>\n",
       "      <th>metapath</th>\n",
       "      <th>max</th>\n",
       "      <th>min</th>\n",
       "      <th>mean</th>\n",
       "    </tr>\n",
       "  </thead>\n",
       "  <tbody>\n",
       "    <tr>\n",
       "      <th>0</th>\n",
       "      <td>[0, 1, 0, 1]</td>\n",
       "      <td>220828</td>\n",
       "      <td>1</td>\n",
       "      <td>38881.417479</td>\n",
       "    </tr>\n",
       "    <tr>\n",
       "      <th>1</th>\n",
       "      <td>[0, 1, 0, 2]</td>\n",
       "      <td>2882</td>\n",
       "      <td>1</td>\n",
       "      <td>866.685620</td>\n",
       "    </tr>\n",
       "    <tr>\n",
       "      <th>2</th>\n",
       "      <td>[0, 1, 2, 0]</td>\n",
       "      <td>567</td>\n",
       "      <td>1</td>\n",
       "      <td>99.787564</td>\n",
       "    </tr>\n",
       "    <tr>\n",
       "      <th>3</th>\n",
       "      <td>[0, 1, 2, 1]</td>\n",
       "      <td>1372</td>\n",
       "      <td>1</td>\n",
       "      <td>12.768375</td>\n",
       "    </tr>\n",
       "    <tr>\n",
       "      <th>4</th>\n",
       "      <td>[0, 2, 0, 1]</td>\n",
       "      <td>26202</td>\n",
       "      <td>1</td>\n",
       "      <td>5770.010543</td>\n",
       "    </tr>\n",
       "    <tr>\n",
       "      <th>5</th>\n",
       "      <td>[0, 2, 0, 2]</td>\n",
       "      <td>562988</td>\n",
       "      <td>1</td>\n",
       "      <td>143093.646563</td>\n",
       "    </tr>\n",
       "    <tr>\n",
       "      <th>6</th>\n",
       "      <td>[0, 2, 1, 0]</td>\n",
       "      <td>567</td>\n",
       "      <td>1</td>\n",
       "      <td>99.787564</td>\n",
       "    </tr>\n",
       "    <tr>\n",
       "      <th>7</th>\n",
       "      <td>[0, 2, 1, 2]</td>\n",
       "      <td>1250</td>\n",
       "      <td>1</td>\n",
       "      <td>11.798923</td>\n",
       "    </tr>\n",
       "    <tr>\n",
       "      <th>8</th>\n",
       "      <td>[1, 0, 1, 0]</td>\n",
       "      <td>220828</td>\n",
       "      <td>1</td>\n",
       "      <td>38881.417479</td>\n",
       "    </tr>\n",
       "    <tr>\n",
       "      <th>9</th>\n",
       "      <td>[1, 0, 1, 2]</td>\n",
       "      <td>19757</td>\n",
       "      <td>1</td>\n",
       "      <td>527.937355</td>\n",
       "    </tr>\n",
       "    <tr>\n",
       "      <th>10</th>\n",
       "      <td>[1, 0, 2, 0]</td>\n",
       "      <td>26202</td>\n",
       "      <td>1</td>\n",
       "      <td>5770.010543</td>\n",
       "    </tr>\n",
       "    <tr>\n",
       "      <th>11</th>\n",
       "      <td>[1, 0, 2, 1]</td>\n",
       "      <td>5199</td>\n",
       "      <td>1</td>\n",
       "      <td>103.902362</td>\n",
       "    </tr>\n",
       "    <tr>\n",
       "      <th>12</th>\n",
       "      <td>[1, 2, 0, 1]</td>\n",
       "      <td>5199</td>\n",
       "      <td>1</td>\n",
       "      <td>103.902362</td>\n",
       "    </tr>\n",
       "    <tr>\n",
       "      <th>13</th>\n",
       "      <td>[1, 2, 0, 2]</td>\n",
       "      <td>98984</td>\n",
       "      <td>1</td>\n",
       "      <td>1502.852164</td>\n",
       "    </tr>\n",
       "    <tr>\n",
       "      <th>14</th>\n",
       "      <td>[1, 2, 1, 0]</td>\n",
       "      <td>1372</td>\n",
       "      <td>1</td>\n",
       "      <td>12.768375</td>\n",
       "    </tr>\n",
       "    <tr>\n",
       "      <th>15</th>\n",
       "      <td>[1, 2, 1, 2]</td>\n",
       "      <td>20049</td>\n",
       "      <td>1</td>\n",
       "      <td>269.561607</td>\n",
       "    </tr>\n",
       "    <tr>\n",
       "      <th>16</th>\n",
       "      <td>[2, 1, 0, 1]</td>\n",
       "      <td>19757</td>\n",
       "      <td>1</td>\n",
       "      <td>527.937355</td>\n",
       "    </tr>\n",
       "    <tr>\n",
       "      <th>17</th>\n",
       "      <td>[2, 1, 0, 2]</td>\n",
       "      <td>258</td>\n",
       "      <td>1</td>\n",
       "      <td>13.861776</td>\n",
       "    </tr>\n",
       "    <tr>\n",
       "      <th>18</th>\n",
       "      <td>[2, 1, 2, 0]</td>\n",
       "      <td>1250</td>\n",
       "      <td>1</td>\n",
       "      <td>11.798923</td>\n",
       "    </tr>\n",
       "    <tr>\n",
       "      <th>19</th>\n",
       "      <td>[2, 1, 2, 1]</td>\n",
       "      <td>20049</td>\n",
       "      <td>1</td>\n",
       "      <td>269.561607</td>\n",
       "    </tr>\n",
       "  </tbody>\n",
       "</table>\n",
       "</div>"
      ]
     },
     "execution_count": 23,
     "metadata": {},
     "output_type": "execute_result"
    }
   ],
   "execution_count": 23
  },
  {
   "metadata": {},
   "cell_type": "markdown",
   "source": "# Continue for adjacency Matrix",
   "id": "5560966a203c20d5"
  },
  {
   "metadata": {},
   "cell_type": "markdown",
   "source": "",
   "id": "b02b96865d84e038"
  },
  {
   "metadata": {
    "ExecuteTime": {
     "end_time": "2024-10-28T08:53:53.929816Z",
     "start_time": "2024-10-28T08:53:52.842674Z"
    }
   },
   "cell_type": "code",
   "source": [
    "# map each microbe to a list of diseases\n",
    "microbe_disease_list = {i: adjM[i, num_microbe:num_microbe+num_disease].nonzero()[0] for i in range(num_microbe)}\n",
    "# map each disease to a list of microbes\n",
    "disease_microbe_list = {i: adjM[num_microbe+i, :num_microbe].nonzero()[0] for i in range(num_disease)}\n",
    "# map each metabolite to a list of diseases\n",
    "metabolite_disease_list = {i: adjM[num_microbe+num_disease+i, num_microbe:num_microbe+num_disease].nonzero()[0] for i in range(num_metabolite)}\n",
    "# map each disease to a list of metabolites\n",
    "disease_metabolite_list = {i: adjM[num_microbe+i, num_microbe+num_disease:num_microbe+num_disease+num_metabolite].nonzero()[0] for i in range(num_disease)}\n",
    "# map each microbe to a list of metabolites\n",
    "microbe_metabolite_list = {i: adjM[i, num_microbe+num_disease:num_microbe+num_disease+num_metabolite].nonzero()[0] for i in range(num_microbe)}\n",
    "# map each metabolite to a list of microbes\n",
    "metabolite_microbe_list = {i: adjM[num_microbe+num_disease+i, :num_microbe].nonzero()[0] for i in range(num_metabolite)}"
   ],
   "id": "6a50b8cc1395a219",
   "outputs": [],
   "execution_count": 15
  },
  {
   "metadata": {
    "ExecuteTime": {
     "end_time": "2024-10-28T08:53:54.010618Z",
     "start_time": "2024-10-28T08:53:54.008821Z"
    }
   },
   "cell_type": "code",
   "source": "",
   "id": "59addd3e2e53b06b",
   "outputs": [],
   "execution_count": null
  }
 ],
 "metadata": {
  "kernelspec": {
   "display_name": "Python 3",
   "language": "python",
   "name": "python3"
  },
  "language_info": {
   "codemirror_mode": {
    "name": "ipython",
    "version": 2
   },
   "file_extension": ".py",
   "mimetype": "text/x-python",
   "name": "python",
   "nbconvert_exporter": "python",
   "pygments_lexer": "ipython2",
   "version": "2.7.6"
  }
 },
 "nbformat": 4,
 "nbformat_minor": 5
}

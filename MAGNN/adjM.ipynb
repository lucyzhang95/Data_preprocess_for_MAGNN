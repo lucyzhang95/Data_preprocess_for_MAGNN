{
 "cells": [
  {
   "cell_type": "code",
   "id": "initial_id",
   "metadata": {
    "collapsed": true,
    "ExecuteTime": {
     "end_time": "2024-10-18T03:07:31.795464Z",
     "start_time": "2024-10-18T03:07:31.792966Z"
    }
   },
   "source": [
    "import os\n",
    "\n",
    "import pandas as pd\n",
    "import numpy as np\n",
    "import matplotlib.pyplot as plt\n",
    "import seaborn as sns\n",
    "\n",
    "from MAGNN_preprocess_utils.preprocess import (\n",
    "    get_column, \n",
    "    assign_index, \n",
    "    map_index_to_relation_file, \n",
    "    export_index2dat, \n",
    "    split_date,\n",
    "    save_split_data2npz\n",
    ")\n",
    "from utils.hmdb_preprocess import microbe, microbe_d"
   ],
   "outputs": [],
   "execution_count": 31
  },
  {
   "metadata": {},
   "cell_type": "markdown",
   "source": "# Input data preprocess",
   "id": "4814f22f13e2ef60"
  },
  {
   "metadata": {
    "ExecuteTime": {
     "end_time": "2024-10-18T03:07:31.854380Z",
     "start_time": "2024-10-18T03:07:31.851883Z"
    }
   },
   "cell_type": "code",
   "source": [
    "# list all file paths for the original relation .dat files\n",
    "file_path = os.getcwd()\n",
    "# file 1, 2: microbe-disease\n",
    "file1 = os.path.join(file_path, \"../data\", \"MAGNN_data\", \"disbiome_taxid_mondo.dat\")\n",
    "file2 = os.path.join(file_path, \"../data\", \"MAGNN_data\", \"gmmad2_taxid_mondo.dat\")\n",
    "# file 3, 4: microbe-metabolite\n",
    "file3 = os.path.join(file_path, \"../data\", \"MAGNN_data\", \"gmmad2_taxid_met.dat\")\n",
    "file4 = os.path.join(file_path, \"../data\", \"MAGNN_data\", \"hmdb_taxid_met.dat\")\n",
    "# file 5: metabolite-disease\n",
    "file5 = os.path.join(file_path, \"../data\", \"MAGNN_data\", \"hmdb_met_disease.dat\")"
   ],
   "id": "387a6ed3b6f739ce",
   "outputs": [],
   "execution_count": 32
  },
  {
   "metadata": {
    "ExecuteTime": {
     "end_time": "2024-10-18T03:07:32.678947Z",
     "start_time": "2024-10-18T03:07:31.871322Z"
    }
   },
   "cell_type": "code",
   "source": [
    "# get entity columns individually\n",
    "microbes1 = get_column(file1, colname1=\"Microbe\", colname2=\"Disease\", col=\"col1\")\n",
    "microbes2 = get_column(file2, colname1=\"Microbe\", colname2=\"Disease\", col=\"col1\")\n",
    "microbes3 = get_column(file3, colname1=\"Microbe\", colname2=\"Metabolite\", col=\"col1\")\n",
    "microbes4 = get_column(file4, colname1=\"Microbe\", colname2=\"Metabolite\", col=\"col1\")\n",
    "all_microbes = assign_index([microbes1, microbes2, microbes3, microbes4])\n",
    "\n",
    "disease1 = get_column(file1, colname1=\"Microbe\", colname2=\"Disease\", col=\"col2\")\n",
    "disease2 = get_column(file2, colname1=\"Microbe\", colname2=\"Disease\", col=\"col2\")\n",
    "disease3 = get_column(file5, colname1=\"Metabolite\", colname2=\"Disease\", col=\"col2\")\n",
    "all_diseases = assign_index([disease1, disease2, disease3])\n",
    "\n",
    "metabolite1 = get_column(file3, colname1=\"Microbe\", colname2=\"Metabolite\", col=\"col2\")\n",
    "metabolite2 = get_column(file4, colname1=\"Microbe\", colname2=\"Metabolite\", col=\"col2\")\n",
    "metabolite3 = get_column(file5, colname1=\"Metabolite\", colname2=\"Disease\", col=\"col1\")\n",
    "all_metabolites = assign_index([metabolite1, metabolite2, metabolite3])"
   ],
   "id": "7ab6766de158184a",
   "outputs": [],
   "execution_count": 33
  },
  {
   "metadata": {
    "ExecuteTime": {
     "end_time": "2024-10-18T03:07:32.718786Z",
     "start_time": "2024-10-18T03:07:32.694913Z"
    }
   },
   "cell_type": "code",
   "source": [
    "# export index file to MKG_data_processing/MAGNN/data\n",
    "export_index2dat(all_microbes, \"data/microbe_index.dat\")\n",
    "export_index2dat(all_metabolites, \"data/metabolite_index.dat\")\n",
    "export_index2dat(all_diseases, \"data/disease_index.dat\")"
   ],
   "id": "394fb593048cf912",
   "outputs": [],
   "execution_count": 34
  },
  {
   "metadata": {
    "ExecuteTime": {
     "end_time": "2024-10-18T03:07:33.255153Z",
     "start_time": "2024-10-18T03:07:32.734366Z"
    }
   },
   "cell_type": "code",
   "source": [
    "# merge two relation dfs together\n",
    "md_merged_df = map_index_to_relation_file([file1, file2], \"Microbe\", \"Disease\", all_microbes, all_diseases)\n",
    "mm_df = map_index_to_relation_file([file3, file4], \"Microbe\", \"Metabolite\", all_microbes, all_metabolites)\n",
    "metd_df = map_index_to_relation_file([file5], \"Metabolite\", \"Disease\", all_metabolites, all_diseases)"
   ],
   "id": "ae7a5f6266f518b2",
   "outputs": [],
   "execution_count": 35
  },
  {
   "metadata": {
    "ExecuteTime": {
     "end_time": "2024-10-18T03:07:33.667610Z",
     "start_time": "2024-10-18T03:07:33.271310Z"
    }
   },
   "cell_type": "code",
   "source": [
    "# export relational dfs to .dat files\n",
    "export_index2dat(md_merged_df, \"data/microbe_disease_idx.dat\")\n",
    "export_index2dat(mm_df, \"data/microbe_metabolite_idx.dat\")\n",
    "export_index2dat(metd_df, \"data/metabolite_disease_idx.dat\")"
   ],
   "id": "3e889234a60fb9e5",
   "outputs": [],
   "execution_count": 36
  },
  {
   "metadata": {},
   "cell_type": "markdown",
   "source": "# Create adjacency matrix",
   "id": "f10a944b0a5b53bd"
  },
  {
   "metadata": {
    "ExecuteTime": {
     "end_time": "2024-10-18T03:07:33.685375Z",
     "start_time": "2024-10-18T03:07:33.683717Z"
    }
   },
   "cell_type": "code",
   "source": "save_prefix = \"data/preprocessed/\"",
   "id": "c2a7bad63644bb0c",
   "outputs": [],
   "execution_count": 37
  },
  {
   "metadata": {
    "ExecuteTime": {
     "end_time": "2024-10-18T03:07:33.790161Z",
     "start_time": "2024-10-18T03:07:33.700391Z"
    }
   },
   "cell_type": "code",
   "source": [
    "microbe_disease = pd.read_csv(\"data/microbe_disease_idx.dat\", encoding='utf-8', delimiter='\\t', names=['MicrobeIdx', 'DiseaseIdx'])\n",
    "microbe_metabolite = pd.read_csv('data/microbe_metabolite_idx.dat', encoding='utf-8', delimiter='\\t', names=['MicrobeIdx', 'MetaboliteIdx'])\n",
    "metabolite_disease = pd.read_csv('data/metabolite_disease_idx.dat', encoding='utf-8', delimiter='\\t', names=['MetaboliteIdx', 'DiseaseIdx'])\n",
    "num_microbe = 8202\n",
    "num_metabolite = 23823\n",
    "num_disease = 898"
   ],
   "id": "dd7f1888ce6daaf2",
   "outputs": [],
   "execution_count": 38
  },
  {
   "metadata": {
    "ExecuteTime": {
     "end_time": "2024-10-18T03:07:33.877463Z",
     "start_time": "2024-10-18T03:07:33.806643Z"
    }
   },
   "cell_type": "code",
   "source": [
    "# Check for duplicates in microbe_disease data\n",
    "# if duplicates=True, need to make increments when creating adjM \n",
    "duplicates_in_microbe_disease = microbe_disease[microbe_disease.duplicated()]\n",
    "print(duplicates_in_microbe_disease)\n",
    "\n",
    "# Check for duplicates in microbe_metabolite data\n",
    "duplicates_in_microbe_metabolite = microbe_metabolite[microbe_metabolite.duplicated()]\n",
    "print(duplicates_in_microbe_metabolite)\n",
    "\n",
    "# Check for duplicates in metabolite_disease data\n",
    "duplicates_in_metabolite_disease = metabolite_disease[metabolite_disease.duplicated()]\n",
    "print(duplicates_in_metabolite_disease)"
   ],
   "id": "b89d8d0e593f1fd3",
   "outputs": [
    {
     "name": "stdout",
     "output_type": "stream",
     "text": [
      "        MicrobeIdx  DiseaseIdx\n",
      "5083            62          48\n",
      "5278            10         115\n",
      "5504            92           8\n",
      "7773           153          48\n",
      "8396           498         187\n",
      "...            ...         ...\n",
      "501973         221          94\n",
      "503661         182          40\n",
      "504745           7          94\n",
      "505352         247          29\n",
      "505647         255           8\n",
      "\n",
      "[527 rows x 2 columns]\n",
      "        MicrobeIdx  MetaboliteIdx\n",
      "598604          41            586\n",
      "598635          41             45\n",
      "598671          41            720\n",
      "598714          41            772\n",
      "598737          41            795\n",
      "598774          41            675\n",
      "598807          41            734\n",
      "598833          41            125\n",
      "598844          41            116\n",
      "598854          41            600\n",
      "598855          49           1412\n",
      "598858          41            988\n",
      "598895         177            309\n",
      "598913          41            260\n",
      "598921         177            118\n",
      "598943          41            976\n",
      "598995          41            380\n",
      "599070          41            867\n",
      "599102          41           1527\n",
      "599130         177            734\n",
      "599133          41           1323\n",
      "599142          41            309\n",
      "599163         196           1171\n",
      "599170          41            118\n",
      "599180          41             50\n",
      "599184          41            665\n",
      "Empty DataFrame\n",
      "Columns: [MetaboliteIdx, DiseaseIdx]\n",
      "Index: []\n"
     ]
    }
   ],
   "execution_count": 39
  },
  {
   "metadata": {
    "ExecuteTime": {
     "end_time": "2024-10-18T03:07:33.918215Z",
     "start_time": "2024-10-18T03:07:33.895524Z"
    }
   },
   "cell_type": "code",
   "source": [
    "md_train, md_val, md_test = split_date(microbe_disease, train_ratio=0.7, val_ratio=0.2, test_ratio=0.1)\n",
    "# save_split_data2npz(md_train, md_val, md_test, \"data/micro_disease_train_val_test_idx.npz\")"
   ],
   "id": "47dddde209dbf16a",
   "outputs": [],
   "execution_count": 40
  },
  {
   "metadata": {
    "ExecuteTime": {
     "end_time": "2024-10-18T03:07:33.989735Z",
     "start_time": "2024-10-18T03:07:33.959074Z"
    }
   },
   "cell_type": "code",
   "source": [
    "# training: 70%, validation: 20%, testing: 10%\n",
    "train_val_test_idx = np.load(\"data/micro_disease_train_val_test_idx.npz\")\n",
    "train_idx = train_val_test_idx['train']\n",
    "val_idx = train_val_test_idx['val']\n",
    "test_idx = train_val_test_idx['test']\n",
    "\n",
    "# reset microbe-disease index \n",
    "microbe_disease = microbe_disease.loc[train_idx].reset_index(drop=True)\n",
    "microbe_disease.head()\n",
    "print(f\"Length of Training data: {len(microbe_disease)}\")"
   ],
   "id": "45bded2908a94709",
   "outputs": [
    {
     "name": "stdout",
     "output_type": "stream",
     "text": [
      "Length of Training data: 354096\n"
     ]
    }
   ],
   "execution_count": 41
  },
  {
   "metadata": {
    "ExecuteTime": {
     "end_time": "2024-10-18T03:07:46.058596Z",
     "start_time": "2024-10-18T03:07:33.999103Z"
    }
   },
   "cell_type": "code",
   "source": [
    "# build adjacency matrix\n",
    "# 0 for microbe, 1 for disease, 2 for metabolite\n",
    "dim = num_microbe + num_disease + num_metabolite\n",
    "\n",
    "type_mask = np.zeros(dim, dtype=int)\n",
    "type_mask[num_microbe:num_microbe+num_disease] = 1\n",
    "type_mask[num_microbe+num_disease:]=2\n",
    "\n",
    "adjM = np.zeros((dim, dim), dtype=int)\n",
    "for _, row in microbe_disease.iterrows():\n",
    "    microID = row[\"MicrobeIdx\"]\n",
    "    diseaseID = num_microbe + row[\"DiseaseIdx\"]\n",
    "    # increment accounts for multiple links exist between same microbe and disease relationships\n",
    "    adjM[microID, diseaseID] += 1\n",
    "    adjM[diseaseID, microID] += 1\n",
    "for _, row in microbe_metabolite.iterrows():\n",
    "    microID = row[\"MicrobeIdx\"]\n",
    "    metID = num_microbe + num_disease + row[\"MetaboliteIdx\"]\n",
    "    adjM[microID, metID] += 1\n",
    "    adjM[metID, microID] += 1\n",
    "for _, row in metabolite_disease.iterrows():\n",
    "    metID = num_microbe + num_disease + row[\"MetaboliteIdx\"]\n",
    "    diseaseID = num_microbe + row[\"DiseaseIdx\"]\n",
    "    adjM[metID, diseaseID] = 1\n",
    "    adjM[diseaseID, metID] = 1"
   ],
   "id": "1200849287283faf",
   "outputs": [],
   "execution_count": 42
  },
  {
   "metadata": {},
   "cell_type": "code",
   "outputs": [],
   "execution_count": null,
   "source": [
    "# example of non-zero entries in the adjacency matrix\n",
    "adjM[8202:8212, 0:10]"
   ],
   "id": "dc0907aed90e0284"
  },
  {
   "metadata": {
    "ExecuteTime": {
     "end_time": "2024-10-18T05:28:33.152919Z",
     "start_time": "2024-10-18T05:28:32.278998Z"
    }
   },
   "cell_type": "code",
   "source": [
    "# map each microbe to a list of diseases\n",
    "microbe_disease_list = {i: adjM[i, num_microbe:num_microbe+num_disease].nonzero()[0] for i in range(num_microbe)}\n",
    "# map each disease to a list of microbes\n",
    "disease_microbe_list = {i: adjM[num_microbe+i, :num_microbe].nonzero()[0] for i in range(num_disease)}\n",
    "# map each metabolite to a list of diseases\n",
    "metabolite_disease_list = {i: adjM[num_microbe+num_disease+i, num_microbe:num_microbe+num_disease].nonzero()[0] for i in range(num_metabolite)}\n",
    "# map each disease to a list of metabolites\n",
    "disease_metabolite_list = {i: adjM[num_microbe+i, num_microbe+num_disease:num_microbe+num_disease+num_metabolite].nonzero()[0] for i in range(num_disease)}\n",
    "# map each microbe to a list of metabolites\n",
    "microbe_metabolite_list = {i: adjM[i, num_microbe+num_disease:num_microbe+num_disease+num_metabolite].nonzero()[0] for i in range(num_microbe)}\n",
    "# map each metabolite to a list of microbes\n",
    "metabolite_microbe_list = {i: adjM[num_microbe+num_disease+i, :num_microbe].nonzero()[0] for i in range(num_metabolite)}"
   ],
   "id": "6a50b8cc1395a219",
   "outputs": [],
   "execution_count": 56
  },
  {
   "metadata": {},
   "cell_type": "code",
   "outputs": [],
   "execution_count": null,
   "source": "",
   "id": "59addd3e2e53b06b"
  }
 ],
 "metadata": {
  "kernelspec": {
   "display_name": "Python 3",
   "language": "python",
   "name": "python3"
  },
  "language_info": {
   "codemirror_mode": {
    "name": "ipython",
    "version": 2
   },
   "file_extension": ".py",
   "mimetype": "text/x-python",
   "name": "python",
   "nbconvert_exporter": "python",
   "pygments_lexer": "ipython2",
   "version": "2.7.6"
  }
 },
 "nbformat": 4,
 "nbformat_minor": 5
}

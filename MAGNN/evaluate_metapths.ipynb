{
 "cells": [
  {
   "cell_type": "code",
   "id": "initial_id",
   "metadata": {
    "collapsed": true,
    "ExecuteTime": {
     "end_time": "2024-11-04T16:09:55.655844Z",
     "start_time": "2024-11-04T16:09:55.650169Z"
    }
   },
   "source": [
    "import pandas as pd\n",
    "import numpy as np\n",
    "\n",
    "import matplotlib.pyplot as plt\n",
    "\n",
    "from  MAGNN_preprocess_utils.preprocess import (\n",
    "    generate_paths,\n",
    "    evaluate_metapath_adjacency_matrix,\n",
    "    validate_expected_metapaths,\n",
    "    get_symmetric_metapath_neighbor_pairs,\n",
    "    get_edge_metapath_idx_array\n",
    ")"
   ],
   "outputs": [],
   "execution_count": 3
  },
  {
   "metadata": {},
   "cell_type": "markdown",
   "source": "## Check for non-zero entries in the adjacency matrix",
   "id": "933f9116aa940d02"
  },
  {
   "metadata": {
    "ExecuteTime": {
     "end_time": "2024-11-04T16:10:56.384966Z",
     "start_time": "2024-11-04T16:10:51.633270Z"
    }
   },
   "cell_type": "code",
   "source": [
    "# Load the adjacency matrix\n",
    "adjM = np.load('data/preprocessed/raw_adjM.npz')"
   ],
   "id": "46f9de14af1d5828",
   "outputs": [
    {
     "data": {
      "text/plain": [
       "(32923, 32923)"
      ]
     },
     "execution_count": 10,
     "metadata": {},
     "output_type": "execute_result"
    }
   ],
   "execution_count": 10
  },
  {
   "metadata": {
    "ExecuteTime": {
     "end_time": "2024-11-04T16:14:02.020087Z",
     "start_time": "2024-11-04T16:13:57.363383Z"
    }
   },
   "cell_type": "code",
   "source": [
    "# example of non-zero entries in the adjacency matrix\n",
    "adjM = adjM[\"arr_0\"]\n",
    "adjM[8202:8212, 0:10]"
   ],
   "id": "378770e482739d4e",
   "outputs": [
    {
     "data": {
      "text/plain": [
       "array([[1, 0, 0, 0, 0, 0, 0, 0, 0, 0],\n",
       "       [1, 1, 1, 0, 1, 1, 1, 0, 1, 0],\n",
       "       [0, 0, 1, 0, 0, 0, 0, 0, 0, 0],\n",
       "       [0, 0, 0, 1, 1, 1, 1, 0, 0, 0],\n",
       "       [0, 0, 1, 0, 1, 1, 1, 0, 0, 0],\n",
       "       [1, 1, 1, 1, 0, 1, 1, 1, 1, 0],\n",
       "       [0, 0, 0, 0, 1, 1, 1, 0, 1, 0],\n",
       "       [0, 0, 0, 0, 0, 0, 0, 1, 0, 0],\n",
       "       [1, 2, 1, 1, 1, 1, 1, 1, 2, 0],\n",
       "       [0, 0, 1, 0, 0, 0, 0, 0, 1, 1]])"
      ]
     },
     "execution_count": 14,
     "metadata": {},
     "output_type": "execute_result"
    }
   ],
   "execution_count": 14
  },
  {
   "metadata": {},
   "cell_type": "markdown",
   "source": "## Metapath Analysis",
   "id": "5403bcb427946baf"
  },
  {
   "metadata": {
    "ExecuteTime": {
     "end_time": "2024-11-04T16:11:40.576465Z",
     "start_time": "2024-11-04T16:11:40.554894Z"
    }
   },
   "cell_type": "code",
   "source": "# TODO: Any other ways to summarize and compare the non-zero metapath adjacency matrix?",
   "id": "91157049c32224cd",
   "outputs": [],
   "execution_count": 12
  },
  {
   "metadata": {},
   "cell_type": "markdown",
   "source": [
    "### Path count analysis\n",
    "- sum of all values of each metapath type adjM (total path count)\n",
    "- max value of node pair \n",
    "- average path count per node pair (mean_node_pair) <br> `metapath_adjM.sum() / (metapath_adjM.shape[0] * metapath_adjM.shape[1]`)\n",
    "- min value of node pair in non-zero metapath adjM\n",
    "- mean value of node pair in non-zero metapath adjM\n",
    "- **desnity** is used for plots (proportion of non-zero node pairs in the graph network have at least one path along the metapath) <br> `np.count_nonzero(metapath_adjM) / (metapath_adjM[0] * metapath_adjM[1])`"
   ],
   "id": "1a02df8f82faff08"
  },
  {
   "metadata": {
    "ExecuteTime": {
     "end_time": "2024-11-04T16:14:39.681801Z",
     "start_time": "2024-11-04T16:14:39.678582Z"
    }
   },
   "cell_type": "code",
   "source": "type_mask = np.load('data/preprocessed/node_types.npy')",
   "id": "cae5df5a619f8d01",
   "outputs": [],
   "execution_count": 18
  },
  {
   "metadata": {
    "ExecuteTime": {
     "end_time": "2024-11-04T16:15:44.051564Z",
     "start_time": "2024-11-04T16:14:42.016651Z"
    }
   },
   "cell_type": "code",
   "source": [
    "expected_metapath_l3 = generate_paths(3)\n",
    "metapath_len3 = evaluate_metapath_adjacency_matrix(adjM, type_mask, expected_metapath_l3)\n",
    "metapath_len3_df = pd.DataFrame(metapath_len3)\n",
    "metapath_len3_df"
   ],
   "id": "16f3c242e542cde1",
   "outputs": [
    {
     "data": {
      "text/plain": [
       "     metapath         sum    max  min       mean   density  non_zero_mean\n",
       "0   (0, 1, 0)  3083925342    177    1  45.842081  0.729859      62.809481\n",
       "1   (0, 1, 2)     4465846     12    1   0.022855  0.015650       1.460403\n",
       "2   (0, 2, 0)   384891158   1011    1   5.721349  0.015410     371.274302\n",
       "3   (0, 2, 1)     1497403    159    1   0.203302  0.042238       4.813284\n",
       "4   (1, 0, 1)    41568096   6493    1  51.547482  0.094224     547.071003\n",
       "5   (1, 0, 2)     2961493     65    1   0.138432  0.007306      18.947734\n",
       "6   (1, 2, 0)     1497403    159    1   0.203302  0.042238       4.813284\n",
       "7   (1, 2, 1)       92218  20017    1   0.114357  0.035901       3.185313\n",
       "8   (2, 0, 1)     2961493     65    1   0.138432  0.007306      18.947734\n",
       "9   (2, 0, 2)   437895926    906    1   0.771575  0.003860     199.866325\n",
       "10  (2, 1, 0)     4465846     12    1   0.022855  0.015650       1.460403\n",
       "11  (2, 1, 2)   402996188     78    1   0.710081  0.708933       1.001619"
      ],
      "text/html": [
       "<div>\n",
       "<style scoped>\n",
       "    .dataframe tbody tr th:only-of-type {\n",
       "        vertical-align: middle;\n",
       "    }\n",
       "\n",
       "    .dataframe tbody tr th {\n",
       "        vertical-align: top;\n",
       "    }\n",
       "\n",
       "    .dataframe thead th {\n",
       "        text-align: right;\n",
       "    }\n",
       "</style>\n",
       "<table border=\"1\" class=\"dataframe\">\n",
       "  <thead>\n",
       "    <tr style=\"text-align: right;\">\n",
       "      <th></th>\n",
       "      <th>metapath</th>\n",
       "      <th>sum</th>\n",
       "      <th>max</th>\n",
       "      <th>min</th>\n",
       "      <th>mean</th>\n",
       "      <th>density</th>\n",
       "      <th>non_zero_mean</th>\n",
       "    </tr>\n",
       "  </thead>\n",
       "  <tbody>\n",
       "    <tr>\n",
       "      <th>0</th>\n",
       "      <td>(0, 1, 0)</td>\n",
       "      <td>3083925342</td>\n",
       "      <td>177</td>\n",
       "      <td>1</td>\n",
       "      <td>45.842081</td>\n",
       "      <td>0.729859</td>\n",
       "      <td>62.809481</td>\n",
       "    </tr>\n",
       "    <tr>\n",
       "      <th>1</th>\n",
       "      <td>(0, 1, 2)</td>\n",
       "      <td>4465846</td>\n",
       "      <td>12</td>\n",
       "      <td>1</td>\n",
       "      <td>0.022855</td>\n",
       "      <td>0.015650</td>\n",
       "      <td>1.460403</td>\n",
       "    </tr>\n",
       "    <tr>\n",
       "      <th>2</th>\n",
       "      <td>(0, 2, 0)</td>\n",
       "      <td>384891158</td>\n",
       "      <td>1011</td>\n",
       "      <td>1</td>\n",
       "      <td>5.721349</td>\n",
       "      <td>0.015410</td>\n",
       "      <td>371.274302</td>\n",
       "    </tr>\n",
       "    <tr>\n",
       "      <th>3</th>\n",
       "      <td>(0, 2, 1)</td>\n",
       "      <td>1497403</td>\n",
       "      <td>159</td>\n",
       "      <td>1</td>\n",
       "      <td>0.203302</td>\n",
       "      <td>0.042238</td>\n",
       "      <td>4.813284</td>\n",
       "    </tr>\n",
       "    <tr>\n",
       "      <th>4</th>\n",
       "      <td>(1, 0, 1)</td>\n",
       "      <td>41568096</td>\n",
       "      <td>6493</td>\n",
       "      <td>1</td>\n",
       "      <td>51.547482</td>\n",
       "      <td>0.094224</td>\n",
       "      <td>547.071003</td>\n",
       "    </tr>\n",
       "    <tr>\n",
       "      <th>5</th>\n",
       "      <td>(1, 0, 2)</td>\n",
       "      <td>2961493</td>\n",
       "      <td>65</td>\n",
       "      <td>1</td>\n",
       "      <td>0.138432</td>\n",
       "      <td>0.007306</td>\n",
       "      <td>18.947734</td>\n",
       "    </tr>\n",
       "    <tr>\n",
       "      <th>6</th>\n",
       "      <td>(1, 2, 0)</td>\n",
       "      <td>1497403</td>\n",
       "      <td>159</td>\n",
       "      <td>1</td>\n",
       "      <td>0.203302</td>\n",
       "      <td>0.042238</td>\n",
       "      <td>4.813284</td>\n",
       "    </tr>\n",
       "    <tr>\n",
       "      <th>7</th>\n",
       "      <td>(1, 2, 1)</td>\n",
       "      <td>92218</td>\n",
       "      <td>20017</td>\n",
       "      <td>1</td>\n",
       "      <td>0.114357</td>\n",
       "      <td>0.035901</td>\n",
       "      <td>3.185313</td>\n",
       "    </tr>\n",
       "    <tr>\n",
       "      <th>8</th>\n",
       "      <td>(2, 0, 1)</td>\n",
       "      <td>2961493</td>\n",
       "      <td>65</td>\n",
       "      <td>1</td>\n",
       "      <td>0.138432</td>\n",
       "      <td>0.007306</td>\n",
       "      <td>18.947734</td>\n",
       "    </tr>\n",
       "    <tr>\n",
       "      <th>9</th>\n",
       "      <td>(2, 0, 2)</td>\n",
       "      <td>437895926</td>\n",
       "      <td>906</td>\n",
       "      <td>1</td>\n",
       "      <td>0.771575</td>\n",
       "      <td>0.003860</td>\n",
       "      <td>199.866325</td>\n",
       "    </tr>\n",
       "    <tr>\n",
       "      <th>10</th>\n",
       "      <td>(2, 1, 0)</td>\n",
       "      <td>4465846</td>\n",
       "      <td>12</td>\n",
       "      <td>1</td>\n",
       "      <td>0.022855</td>\n",
       "      <td>0.015650</td>\n",
       "      <td>1.460403</td>\n",
       "    </tr>\n",
       "    <tr>\n",
       "      <th>11</th>\n",
       "      <td>(2, 1, 2)</td>\n",
       "      <td>402996188</td>\n",
       "      <td>78</td>\n",
       "      <td>1</td>\n",
       "      <td>0.710081</td>\n",
       "      <td>0.708933</td>\n",
       "      <td>1.001619</td>\n",
       "    </tr>\n",
       "  </tbody>\n",
       "</table>\n",
       "</div>"
      ]
     },
     "execution_count": 19,
     "metadata": {},
     "output_type": "execute_result"
    }
   ],
   "execution_count": 19
  },
  {
   "metadata": {},
   "cell_type": "code",
   "outputs": [],
   "execution_count": null,
   "source": [
    "sorted_metapath_len3_df = metapath_len3_df.sort_values(by='density', ascending=False)\n",
    "\n",
    "plt.figure(figsize=(10, 6))\n",
    "plt.barh(sorted_metapath_len3_df['metapath'].astype(str), sorted_metapath_len3_df['density'], color='skyblue')\n",
    "plt.xlabel('Density')\n",
    "plt.ylabel('Metapath Types')\n",
    "plt.gca().invert_yaxis()\n",
    "for index, value in enumerate(sorted_metapath_len3_df['density']):\n",
    "    plt.text(value, index, f'{value:.2f}', va='center')\n",
    "plt.show()"
   ],
   "id": "8de10fcdd125a0c8"
  },
  {
   "metadata": {},
   "cell_type": "code",
   "outputs": [],
   "execution_count": null,
   "source": [
    "possible_metapath_l4 = generate_paths(4)\n",
    "# [1, 0, 0, 1] # this metapath does not exist, output is 0\n",
    "metapath_len4 = evaluate_metapath_adjacency_matrix(adjM, type_mask, possible_metapath_l4)\n",
    "metapath_len4_df = pd.DataFrame(metapath_len4)\n",
    "metapath_len4_df"
   ],
   "id": "d37b67b4db3cc1f0"
  },
  {
   "metadata": {},
   "cell_type": "code",
   "outputs": [],
   "execution_count": null,
   "source": [
    "sorted_metapath_len4_df = metapath_len4_df.sort_values(by='density', ascending=False)\n",
    "\n",
    "plt.figure(figsize=(10, 6))\n",
    "plt.barh(sorted_metapath_len4_df['metapath'].astype(str), sorted_metapath_len4_df['density'], color='skyblue')\n",
    "plt.xlabel('Density')\n",
    "plt.ylabel('Metapath Types')\n",
    "plt.gca().invert_yaxis()\n",
    "for index, value in enumerate(sorted_metapath_len4_df['density']):\n",
    "    plt.text(value, index, f'{value:.2f}', va='center')\n",
    "plt.show()"
   ],
   "id": "f47c7002a2830784"
  },
  {
   "metadata": {},
   "cell_type": "code",
   "outputs": [],
   "execution_count": null,
   "source": [
    "possible_metapath_l5 = generate_paths(5)\n",
    "metapath_len5 = evaluate_metapath_adjacency_matrix(adjM, type_mask, possible_metapath_l5)\n",
    "metapath_len5_df = pd.DataFrame(metapath_len5)\n",
    "metapath_len5_df"
   ],
   "id": "43a3a57c916ecf21"
  },
  {
   "metadata": {},
   "cell_type": "code",
   "outputs": [],
   "execution_count": null,
   "source": [
    "sorted_metapath_len5_df = metapath_len5_df.sort_values(by='density', ascending=False)\n",
    "\n",
    "plt.figure(figsize=(14, 8))\n",
    "plt.barh(sorted_metapath_len5_df['metapath'].astype(str), sorted_metapath_len5_df['density'], color='skyblue')\n",
    "plt.xlabel('Density')\n",
    "plt.ylabel('Metapath Types')\n",
    "plt.gca().invert_yaxis()\n",
    "for index, value in enumerate(sorted_metapath_len5_df['density']):\n",
    "    plt.text(value, index, f'{value:.2f}', va='center')\n",
    "plt.show()"
   ],
   "id": "f1fc9e890a3eecc"
  },
  {
   "metadata": {},
   "cell_type": "code",
   "outputs": [],
   "execution_count": null,
   "source": [
    "possible_metapath_l6 = generate_paths(6)\n",
    "metapath_len6 = evaluate_metapath_adjacency_matrix(adjM, type_mask, possible_metapath_l6)\n",
    "metapath_len6_df = pd.DataFrame(metapath_len6)\n",
    "metapath_len6_df"
   ],
   "id": "d14dc6f0aaf44aeb"
  },
  {
   "metadata": {},
   "cell_type": "code",
   "outputs": [],
   "execution_count": null,
   "source": [
    "sorted_metapath_len6_df = metapath_len6_df.sort_values(by='density', ascending=False)\n",
    "\n",
    "plt.figure(figsize=(20, 12))\n",
    "plt.barh(sorted_metapath_len6_df['metapath'].astype(str), sorted_metapath_len6_df['density'], color='skyblue')\n",
    "plt.xlabel('Density')\n",
    "plt.ylabel('Metapath Types')\n",
    "plt.gca().invert_yaxis()\n",
    "for index, value in enumerate(sorted_metapath_len6_df['density']):\n",
    "    plt.text(value, index, f'{value:.2f}', va='center')\n",
    "plt.show()"
   ],
   "id": "5c0da8b79dbd439"
  },
  {
   "metadata": {},
   "cell_type": "code",
   "outputs": [],
   "execution_count": null,
   "source": [
    "expected_metapaths = [(0, 1, 0), (0, 2, 0), (1, 0, 1), (2, 0, 2), (1, 2, 1), (2, 1, 2), \n",
    "                      (0, 1, 2, 1, 0), (1, 0, 2, 0, 1), (0, 2, 1, 2, 0), (1, 2, 0, 2, 1)]\n",
    "\n",
    "validate_expected_metapaths(possible_metapath_l4, expected_metapaths)\n",
    "validate_expected_metapaths(possible_metapath_l5, expected_metapaths)"
   ],
   "id": "e5c155ebb7f7a6a6"
  },
  {
   "metadata": {},
   "cell_type": "code",
   "outputs": [],
   "execution_count": null,
   "source": [
    "expected_metapaths_simplified = [(0, 1, 0), (1, 0, 1), \n",
    "                                 (0, 1, 2, 1, 0), (1, 0, 2, 0, 1), (0, 2, 1, 2, 0), (1, 2, 0, 2, 1)]\n",
    "validate_expected_metapaths(possible_metapath_l4, expected_metapaths_simplified)\n",
    "validate_expected_metapaths(possible_metapath_l5, expected_metapaths_simplified)"
   ],
   "id": "14b6c1756d3eddc9"
  },
  {
   "metadata": {},
   "cell_type": "markdown",
   "source": [
    "## Final expected metapath types:\n",
    "`[(0, 1, 0), (0, 2, 0), (1, 0, 1), (2, 0, 2), (1, 2, 1), (2, 1, 2),  (0, 1, 2, 1, 0), (1, 0, 2, 0, 1), (0, 2, 1, 2, 0), (1, 2, 0, 2, 1)]`"
   ],
   "id": "b739073b3aee8169"
  },
  {
   "metadata": {},
   "cell_type": "code",
   "outputs": [],
   "execution_count": null,
   "source": [
    "expected_metapaths = [(0, 1, 0), (0, 2, 0), (1, 0, 1), (2, 0, 2), (1, 2, 1), (2, 1, 2),  (0, 1, 2, 1, 0), (1, 0, 2, 0, 1), (0, 2, 1, 2, 0), (1, 2, 0, 2, 1)]\n",
    "neighbor_pairs = get_symmetric_metapath_neighbor_pairs(adjM, type_mask, expected_metapaths)\n",
    "edge_metapath_idx_array = get_edge_metapath_idx_array(neighbor_pairs)"
   ],
   "id": "3ae85507922b7a66"
  },
  {
   "metadata": {},
   "cell_type": "code",
   "outputs": [],
   "execution_count": null,
   "source": "edge_metapath_idx_array[0]",
   "id": "93557a269d72269c"
  },
  {
   "metadata": {},
   "cell_type": "code",
   "outputs": [],
   "execution_count": null,
   "source": "np.savez(\"data/edge_metapath_idx_array.npz\", edge_metapath_idx_array)",
   "id": "1edb926ba23be6d8"
  }
 ],
 "metadata": {
  "kernelspec": {
   "display_name": "Python 3",
   "language": "python",
   "name": "python3"
  },
  "language_info": {
   "codemirror_mode": {
    "name": "ipython",
    "version": 2
   },
   "file_extension": ".py",
   "mimetype": "text/x-python",
   "name": "python",
   "nbconvert_exporter": "python",
   "pygments_lexer": "ipython2",
   "version": "2.7.6"
  }
 },
 "nbformat": 4,
 "nbformat_minor": 5
}

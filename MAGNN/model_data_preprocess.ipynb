{
 "cells": [
  {
   "cell_type": "code",
   "id": "initial_id",
   "metadata": {
    "collapsed": true,
    "ExecuteTime": {
     "end_time": "2024-11-12T08:41:01.658035Z",
     "start_time": "2024-11-12T08:41:00.716682Z"
    }
   },
   "source": [
    "import os\n",
    "import pathlib\n",
    "\n",
    "import pandas as pd\n",
    "import numpy as np\n",
    "import scipy\n",
    "import pickle\n",
    "\n",
    "from  MAGNN_preprocess_utils.preprocess import (\n",
    "    get_column, \n",
    "    assign_index, \n",
    "    map_index_to_relation_file, \n",
    "    export_index2dat, \n",
    "    split_date,\n",
    "    process_and_save_metapath_batches\n",
    ")"
   ],
   "outputs": [],
   "execution_count": 2
  },
  {
   "metadata": {},
   "cell_type": "markdown",
   "source": "# Input data preprocess",
   "id": "4814f22f13e2ef60"
  },
  {
   "metadata": {
    "ExecuteTime": {
     "end_time": "2024-11-12T08:25:00.025687Z",
     "start_time": "2024-11-12T08:25:00.022789Z"
    }
   },
   "cell_type": "code",
   "source": [
    "# list all file paths for the original relation .dat files\n",
    "file_path = os.getcwd()\n",
    "# file 1, 2: microbe-disease\n",
    "file1 = os.path.join(file_path, \"../data\", \"MAGNN_data\", \"disbiome_taxid_mondo.dat\")\n",
    "file2 = os.path.join(file_path, \"../data\", \"MAGNN_data\", \"gmmad2_taxid_mondo.dat\")\n",
    "# file 3, 4: microbe-metabolite\n",
    "file3 = os.path.join(file_path, \"../data\", \"MAGNN_data\", \"gmmad2_taxid_met.dat\")\n",
    "file4 = os.path.join(file_path, \"../data\", \"MAGNN_data\", \"hmdb_taxid_met.dat\")\n",
    "# file 5: metabolite-disease\n",
    "file5 = os.path.join(file_path, \"../data\", \"MAGNN_data\", \"hmdb_met_disease.dat\")"
   ],
   "id": "387a6ed3b6f739ce",
   "outputs": [],
   "execution_count": 6
  },
  {
   "metadata": {
    "ExecuteTime": {
     "end_time": "2024-11-12T08:25:01.900853Z",
     "start_time": "2024-11-12T08:25:01.311935Z"
    }
   },
   "cell_type": "code",
   "source": [
    "# get entity columns individually\n",
    "microbes1 = get_column(file1, colname1=\"Microbe\", colname2=\"Disease\", col=\"col1\")\n",
    "microbes2 = get_column(file2, colname1=\"Microbe\", colname2=\"Disease\", col=\"col1\")\n",
    "microbes3 = get_column(file3, colname1=\"Microbe\", colname2=\"Metabolite\", col=\"col1\")\n",
    "microbes4 = get_column(file4, colname1=\"Microbe\", colname2=\"Metabolite\", col=\"col1\")\n",
    "all_microbes = assign_index([microbes1, microbes2, microbes3, microbes4])\n",
    "\n",
    "disease1 = get_column(file1, colname1=\"Microbe\", colname2=\"Disease\", col=\"col2\")\n",
    "disease2 = get_column(file2, colname1=\"Microbe\", colname2=\"Disease\", col=\"col2\")\n",
    "disease3 = get_column(file5, colname1=\"Metabolite\", colname2=\"Disease\", col=\"col2\")\n",
    "all_diseases = assign_index([disease1, disease2, disease3])\n",
    "\n",
    "metabolite1 = get_column(file3, colname1=\"Microbe\", colname2=\"Metabolite\", col=\"col2\")\n",
    "metabolite2 = get_column(file4, colname1=\"Microbe\", colname2=\"Metabolite\", col=\"col2\")\n",
    "metabolite3 = get_column(file5, colname1=\"Metabolite\", colname2=\"Disease\", col=\"col1\")\n",
    "all_metabolites = assign_index([metabolite1, metabolite2, metabolite3])"
   ],
   "id": "7ab6766de158184a",
   "outputs": [],
   "execution_count": 7
  },
  {
   "metadata": {
    "ExecuteTime": {
     "end_time": "2024-11-12T06:03:47.333634Z",
     "start_time": "2024-11-12T06:03:47.305531Z"
    }
   },
   "cell_type": "code",
   "source": [
    "# export index file to MKG_data_processing/MAGNN/data\n",
    "export_index2dat(all_microbes, \"data/raw/microbe_index.dat\")\n",
    "export_index2dat(all_metabolites, \"data/raw/metabolite_index.dat\")\n",
    "export_index2dat(all_diseases, \"data/raw/disease_index.dat\")"
   ],
   "id": "394fb593048cf912",
   "outputs": [],
   "execution_count": 8
  },
  {
   "metadata": {
    "ExecuteTime": {
     "end_time": "2024-11-12T06:03:51.162899Z",
     "start_time": "2024-11-12T06:03:50.666658Z"
    }
   },
   "cell_type": "code",
   "source": [
    "# merge two relation dfs together\n",
    "md_merged_df = map_index_to_relation_file([file1, file2], \"Microbe\", \"Disease\", all_microbes, all_diseases)\n",
    "mm_df = map_index_to_relation_file([file3, file4], \"Microbe\", \"Metabolite\", all_microbes, all_metabolites)\n",
    "metd_df = map_index_to_relation_file([file5], \"Metabolite\", \"Disease\", all_metabolites, all_diseases)"
   ],
   "id": "ae7a5f6266f518b2",
   "outputs": [],
   "execution_count": 9
  },
  {
   "metadata": {
    "ExecuteTime": {
     "end_time": "2024-11-12T06:03:53.819685Z",
     "start_time": "2024-11-12T06:03:53.442419Z"
    }
   },
   "cell_type": "code",
   "source": [
    "# export relational dfs to .dat files\n",
    "export_index2dat(md_merged_df, \"data/raw/microbe_disease_idx.dat\")\n",
    "export_index2dat(mm_df, \"data/raw/microbe_metabolite_idx.dat\")\n",
    "export_index2dat(metd_df, \"data/raw/metabolite_disease_idx.dat\")"
   ],
   "id": "3e889234a60fb9e5",
   "outputs": [],
   "execution_count": 10
  },
  {
   "metadata": {},
   "cell_type": "markdown",
   "source": "# Create adjacency matrix",
   "id": "f10a944b0a5b53bd"
  },
  {
   "metadata": {
    "ExecuteTime": {
     "end_time": "2024-11-12T08:41:07.346952Z",
     "start_time": "2024-11-12T08:41:07.344574Z"
    }
   },
   "cell_type": "code",
   "source": "save_prefix = \"data/preprocessed/\"",
   "id": "c2a7bad63644bb0c",
   "outputs": [],
   "execution_count": 3
  },
  {
   "metadata": {
    "ExecuteTime": {
     "end_time": "2024-11-12T09:07:34.547738Z",
     "start_time": "2024-11-12T09:07:34.465766Z"
    }
   },
   "cell_type": "code",
   "source": [
    "microbe_disease = pd.read_csv(\"data/raw/microbe_disease_idx.dat\", encoding='utf-8', delimiter='\\t', names=['MicrobeIdx', 'DiseaseIdx'])\n",
    "microbe_metabolite = pd.read_csv('data/raw/microbe_metabolite_idx.dat', encoding='utf-8', delimiter='\\t', names=['MicrobeIdx', 'MetaboliteIdx'])\n",
    "metabolite_disease = pd.read_csv('data/raw/metabolite_disease_idx.dat', encoding='utf-8', delimiter='\\t', names=['MetaboliteIdx', 'DiseaseIdx'])\n",
    "num_microbe = 8202\n",
    "num_metabolite = 23823\n",
    "num_disease = 898"
   ],
   "id": "dd7f1888ce6daaf2",
   "outputs": [],
   "execution_count": 16
  },
  {
   "metadata": {},
   "cell_type": "markdown",
   "source": [
    "### Check for duplicate relationships in the data\n",
    "If duplicates exist, need to make increments when creating adjacency matrix \n",
    "<br>\n",
    "Microbe-Disease and Microbe-Metabolite relationships have duplicates"
   ],
   "id": "91cc5a1d3c716733"
  },
  {
   "metadata": {
    "ExecuteTime": {
     "end_time": "2024-11-12T08:25:09.123375Z",
     "start_time": "2024-11-12T08:25:09.079154Z"
    }
   },
   "cell_type": "code",
   "source": [
    "# Check for duplicates in microbe_disease data\n",
    "# if duplicates=True, need to make increments when creating adjM \n",
    "duplicates_in_microbe_disease = microbe_disease[microbe_disease.duplicated()]\n",
    "print(duplicates_in_microbe_disease)\n",
    "\n",
    "# Check for duplicates in microbe_metabolite data\n",
    "duplicates_in_microbe_metabolite = microbe_metabolite[microbe_metabolite.duplicated()]\n",
    "print(duplicates_in_microbe_metabolite)\n",
    "\n",
    "# Check for duplicates in metabolite_disease data\n",
    "duplicates_in_metabolite_disease = metabolite_disease[metabolite_disease.duplicated()]\n",
    "print(duplicates_in_metabolite_disease)"
   ],
   "id": "b89d8d0e593f1fd3",
   "outputs": [
    {
     "name": "stdout",
     "output_type": "stream",
     "text": [
      "        MicrobeIdx  DiseaseIdx\n",
      "5083            62          48\n",
      "5278            10         115\n",
      "5504            92           8\n",
      "7773           153          48\n",
      "8396           498         187\n",
      "...            ...         ...\n",
      "501973         221          94\n",
      "503661         182          40\n",
      "504745           7          94\n",
      "505352         247          29\n",
      "505647         255           8\n",
      "\n",
      "[527 rows x 2 columns]\n",
      "        MicrobeIdx  MetaboliteIdx\n",
      "598604          41            586\n",
      "598635          41             45\n",
      "598671          41            720\n",
      "598714          41            772\n",
      "598737          41            795\n",
      "598774          41            675\n",
      "598807          41            734\n",
      "598833          41            125\n",
      "598844          41            116\n",
      "598854          41            600\n",
      "598855          49           1412\n",
      "598858          41            988\n",
      "598895         177            309\n",
      "598913          41            260\n",
      "598921         177            118\n",
      "598943          41            976\n",
      "598995          41            380\n",
      "599070          41            867\n",
      "599102          41           1527\n",
      "599130         177            734\n",
      "599133          41           1323\n",
      "599142          41            309\n",
      "599163         196           1171\n",
      "599170          41            118\n",
      "599180          41             50\n",
      "599184          41            665\n",
      "Empty DataFrame\n",
      "Columns: [MetaboliteIdx, DiseaseIdx]\n",
      "Index: []\n"
     ]
    }
   ],
   "execution_count": 10
  },
  {
   "metadata": {
    "ExecuteTime": {
     "end_time": "2024-11-12T09:07:52.558637Z",
     "start_time": "2024-11-12T09:07:38.919045Z"
    }
   },
   "cell_type": "code",
   "source": [
    "# build adjacency matrix\n",
    "# 0 for microbe, 1 for disease, 2 for metabolite\n",
    "dim = num_microbe + num_disease + num_metabolite\n",
    "\n",
    "type_mask = np.zeros(dim, dtype=int)\n",
    "type_mask[num_microbe:num_microbe+num_disease] = 1\n",
    "type_mask[num_microbe+num_disease:]=2\n",
    "\n",
    "adjM = np.zeros((dim, dim), dtype=int)\n",
    "for _, row in microbe_disease.iterrows():\n",
    "    microID = row[\"MicrobeIdx\"]\n",
    "    diseaseID = num_microbe + row[\"DiseaseIdx\"]\n",
    "    # increment accounts for multiple links exist between same microbe and disease relationships\n",
    "    adjM[microID, diseaseID] += 1\n",
    "    adjM[diseaseID, microID] += 1\n",
    "for _, row in microbe_metabolite.iterrows():\n",
    "    microID = row[\"MicrobeIdx\"]\n",
    "    metID = num_microbe + num_disease + row[\"MetaboliteIdx\"]\n",
    "    adjM[microID, metID] += 1\n",
    "    adjM[metID, microID] += 1\n",
    "for _, row in metabolite_disease.iterrows():\n",
    "    metID = num_microbe + num_disease + row[\"MetaboliteIdx\"]\n",
    "    diseaseID = num_microbe + row[\"DiseaseIdx\"]\n",
    "    adjM[metID, diseaseID] = 1\n",
    "    adjM[diseaseID, metID] = 1"
   ],
   "id": "1200849287283faf",
   "outputs": [],
   "execution_count": 17
  },
  {
   "metadata": {
    "ExecuteTime": {
     "end_time": "2024-11-12T09:07:53.833811Z",
     "start_time": "2024-11-12T09:07:53.814738Z"
    }
   },
   "cell_type": "code",
   "source": [
    "# reduce adjM by filtering out links with count less than 1\n",
    "valid_microbe_idx = adjM[:num_microbe, num_microbe:num_microbe+num_disease].sum(axis=1).nonzero()[0]\n",
    "num_microbe = len(valid_microbe_idx)\n",
    "print(num_microbe)\n",
    "\n",
    "valid_disease_idx = adjM[num_microbe:num_microbe+num_disease, :num_microbe].sum(axis=1).nonzero()[0]\n",
    "num_disease = len(valid_disease_idx)\n",
    "print(num_disease)\n",
    "\n",
    "valid_metabolite_idx = adjM[num_microbe:num_microbe+num_disease, num_microbe+num_disease:].sum(axis=0).nonzero()[0]\n",
    "num_metabolite = len(valid_metabolite_idx)\n",
    "print(num_metabolite)"
   ],
   "id": "6968b5bf9bd0c332",
   "outputs": [
    {
     "name": "stdout",
     "output_type": "stream",
     "text": [
      "7167\n",
      "0\n",
      "0\n"
     ]
    }
   ],
   "execution_count": 18
  },
  {
   "metadata": {},
   "cell_type": "markdown",
   "source": " # Create edge metapath index array",
   "id": "590efb1661251aaf"
  },
  {
   "metadata": {
    "ExecuteTime": {
     "end_time": "2024-11-12T08:26:06.558381Z",
     "start_time": "2024-11-12T08:26:05.744758Z"
    }
   },
   "cell_type": "code",
   "source": [
    "# map each microbe to a list of diseases\n",
    "microbe_disease_list = {i: adjM[i, num_microbe:num_microbe+num_disease].nonzero()[0] for i in range(num_microbe)}\n",
    "# map each disease to a list of microbes\n",
    "disease_microbe_list = {i: adjM[num_microbe+i, :num_microbe].nonzero()[0] for i in range(num_disease)}\n",
    "# map each metabolite to a list of diseases\n",
    "metabolite_disease_list = {i: adjM[num_microbe+num_disease+i, num_microbe:num_microbe+num_disease].nonzero()[0] for i in range(num_metabolite)}\n",
    "# map each disease to a list of metabolites\n",
    "disease_metabolite_list = {i: adjM[num_microbe+i, num_microbe+num_disease:num_microbe+num_disease+num_metabolite].nonzero()[0] for i in range(num_disease)}\n",
    "# map each microbe to a list of metabolites\n",
    "microbe_metabolite_list = {i: adjM[i, num_microbe+num_disease:num_microbe+num_disease+num_metabolite].nonzero()[0] for i in range(num_microbe)}\n",
    "# map each metabolite to a list of microbes\n",
    "metabolite_microbe_list = {i: adjM[num_microbe+num_disease+i, :num_microbe].nonzero()[0] for i in range(num_metabolite)}"
   ],
   "id": "6a50b8cc1395a219",
   "outputs": [],
   "execution_count": 12
  },
  {
   "metadata": {
    "ExecuteTime": {
     "end_time": "2024-11-12T08:26:24.061634Z",
     "start_time": "2024-11-12T08:26:24.050526Z"
    }
   },
   "cell_type": "code",
   "source": [
    "microbes_list = []\n",
    "for _, microbe_list in microbe_disease_list.items():\n",
    "    if microbe_list.any():\n",
    "        pass\n",
    "    else:\n",
    "        microbes_list.append(microbe_list) \n",
    "print(len(microbes_list))"
   ],
   "id": "b3d13b13091fb30c",
   "outputs": [
    {
     "name": "stdout",
     "output_type": "stream",
     "text": [
      "1035\n"
     ]
    }
   ],
   "execution_count": 14
  },
  {
   "metadata": {
    "ExecuteTime": {
     "end_time": "2024-11-12T06:09:14.743249Z",
     "start_time": "2024-11-12T06:09:14.740381Z"
    }
   },
   "cell_type": "code",
   "source": "sum(len(disease_list) ** 2 for disease_list in microbe_disease_list.values())",
   "id": "1f4166688f170ca1",
   "outputs": [
    {
     "data": {
      "text/plain": [
       "20442111"
      ]
     },
     "execution_count": 23,
     "metadata": {},
     "output_type": "execute_result"
    }
   ],
   "execution_count": 23
  },
  {
   "metadata": {
    "ExecuteTime": {
     "end_time": "2024-11-12T06:09:17.055704Z",
     "start_time": "2024-11-12T06:09:17.053071Z"
    }
   },
   "cell_type": "code",
   "source": "sum(len(microbe_list) ** 2 for microbe_list in disease_microbe_list.values())",
   "id": "8c76b1103b9fbe96",
   "outputs": [
    {
     "data": {
      "text/plain": [
       "1509142841"
      ]
     },
     "execution_count": 24,
     "metadata": {},
     "output_type": "execute_result"
    }
   ],
   "execution_count": 24
  },
  {
   "metadata": {
    "ExecuteTime": {
     "end_time": "2024-11-12T06:09:18.464896Z",
     "start_time": "2024-11-12T06:09:18.460064Z"
    }
   },
   "cell_type": "code",
   "source": "sum(len(disease_list) ** 2 for disease_list in metabolite_disease_list.values())",
   "id": "22e81482dabfffc7",
   "outputs": [
    {
     "data": {
      "text/plain": [
       "92218"
      ]
     },
     "execution_count": 25,
     "metadata": {},
     "output_type": "execute_result"
    }
   ],
   "execution_count": 25
  },
  {
   "metadata": {
    "ExecuteTime": {
     "end_time": "2024-11-12T06:09:20.114284Z",
     "start_time": "2024-11-12T06:09:20.111899Z"
    }
   },
   "cell_type": "code",
   "source": "sum(len(metabolite_list) ** 2 for metabolite_list in disease_metabolite_list.values())",
   "id": "d4cc27bf50489fd7",
   "outputs": [
    {
     "data": {
      "text/plain": [
       "402996188"
      ]
     },
     "execution_count": 26,
     "metadata": {},
     "output_type": "execute_result"
    }
   ],
   "execution_count": 26
  },
  {
   "metadata": {
    "ExecuteTime": {
     "end_time": "2024-11-12T06:09:21.892678Z",
     "start_time": "2024-11-12T06:09:21.889538Z"
    }
   },
   "cell_type": "code",
   "source": "sum(len(metabolite_list) ** 2 for metabolite_list in microbe_metabolite_list.values())",
   "id": "3286b98378c491f4",
   "outputs": [
    {
     "data": {
      "text/plain": [
       "437852694"
      ]
     },
     "execution_count": 27,
     "metadata": {},
     "output_type": "execute_result"
    }
   ],
   "execution_count": 27
  },
  {
   "metadata": {
    "ExecuteTime": {
     "end_time": "2024-11-12T06:09:23.546951Z",
     "start_time": "2024-11-12T06:09:23.543689Z"
    }
   },
   "cell_type": "code",
   "source": "sum(len(microbe_list) ** 2 for microbe_list in metabolite_microbe_list.values())",
   "id": "d40344e337674246",
   "outputs": [
    {
     "data": {
      "text/plain": [
       "384861682"
      ]
     },
     "execution_count": 28,
     "metadata": {},
     "output_type": "execute_result"
    }
   ],
   "execution_count": 28
  },
  {
   "metadata": {
    "ExecuteTime": {
     "end_time": "2024-11-12T08:31:54.460190Z",
     "start_time": "2024-11-12T08:28:33.093134Z"
    }
   },
   "cell_type": "code",
   "source": [
    "# 0-1-0 (microbe-disease-microbe)\n",
    "microbe_disease_microbe = []\n",
    "for disease, microbe_list in disease_microbe_list.items():\n",
    "    microbe_disease_microbe.extend(\n",
    "        [(microbe1, disease, microbe2) for microbe1 in microbe_list for microbe2 in microbe_list]\n",
    "    )\n",
    "microbe_disease_microbe = np.array(microbe_disease_microbe)\n",
    "# map the disease index back to the index in the adjacency matrix\n",
    "microbe_disease_microbe[:, 1] += num_microbe\n",
    "sorted_index = sorted(list(range(len(microbe_disease_microbe))), \n",
    "                      key=lambda i : microbe_disease_microbe[i, [0, 2, 1]].tolist())\n",
    "microbe_disease_microbe = microbe_disease_microbe[sorted_index]"
   ],
   "id": "ed4a50513d2f178a",
   "outputs": [],
   "execution_count": null
  },
  {
   "metadata": {
    "ExecuteTime": {
     "end_time": "2024-11-12T06:34:21.692812Z",
     "start_time": "2024-11-12T06:33:13.638291Z"
    }
   },
   "cell_type": "code",
   "source": [
    "# 0-1-0 (microbe-disease-microbe)\n",
    "microbe_disease_microbe = np.array([\n",
    "    (microbe1, disease, microbe2) \n",
    "    for disease, microbe_list in disease_microbe_list.items() \n",
    "    for microbe1 in microbe_list \n",
    "    for microbe2 in microbe_list\n",
    "], dtype=np.int32)  \n",
    "microbe_disease_microbe[:, 1] += num_microbe\n",
    "\n",
    "microbe_disease_microbe = microbe_disease_microbe[np.lexsort((microbe_disease_microbe[:, 1], \n",
    "                                                              microbe_disease_microbe[:, 2], \n",
    "                                                              microbe_disease_microbe[:, 0]))]"
   ],
   "id": "358030701bbddd70",
   "outputs": [
    {
     "name": "stdout",
     "output_type": "stream",
     "text": [
      "peak memory: 842.33 MiB, increment: 0.00 MiB\n"
     ]
    }
   ],
   "execution_count": null
  },
  {
   "metadata": {},
   "cell_type": "code",
   "outputs": [],
   "execution_count": null,
   "source": [
    "# 0-2-0 (microbe-metabolite-microbe)\n",
    "microbe_metabolite_microbe = np.array([\n",
    "    (microbe1, metabolite, microbe2)\n",
    "    for metabolite, microbe_list in metabolite_microbe_list.items()\n",
    "    for microbe1 in microbe_list\n",
    "    for microbe2 in microbe_list\n",
    "], dtype=np.int32)\n",
    "microbe_metabolite_microbe[:, 1] += num_microbe + num_disease\n",
    "\n",
    "microbe_metabolite_microbe = microbe_metabolite_microbe[np.lexsort((\n",
    "    microbe_metabolite_microbe[:, 1],\n",
    "    microbe_metabolite_microbe[:, 2],\n",
    "    microbe_metabolite_microbe[:, 0]\n",
    "))]"
   ],
   "id": "fb082df4bf062b03"
  },
  {
   "metadata": {},
   "cell_type": "code",
   "outputs": [],
   "execution_count": null,
   "source": [
    "# 1-2-1 (disease-metabolite-disease)\n",
    "disease_metabolite_disease = np.array([\n",
    "    (d1, metabolite, d2)\n",
    "    for metabolite, disease_list in metabolite_disease_list.items()\n",
    "    for d1 in disease_list\n",
    "    for d2 in disease_list\n",
    "], dtype=np.int32)\n",
    "disease_metabolite_disease[:, [0, 2]] += num_microbe  \n",
    "disease_metabolite_disease[:, 1] += num_disease     \n",
    "\n",
    "disease_metabolite_disease = disease_metabolite_disease[np.lexsort((\n",
    "    disease_metabolite_disease[:, 1],\n",
    "    disease_metabolite_disease[:, 2],\n",
    "    disease_metabolite_disease[:, 0]\n",
    "))]"
   ],
   "id": "25a8036838f79422"
  },
  {
   "metadata": {},
   "cell_type": "code",
   "outputs": [],
   "execution_count": null,
   "source": [
    "# 2-1-2 (metabolite-disease-metabolite) \n",
    "metabolite_disease_metabolite = np.array([\n",
    "    (m1, disease, m2)\n",
    "    for disease, metabolite_list in disease_metabolite_list.items()\n",
    "    for m1 in metabolite_list\n",
    "    for m2 in metabolite_list\n",
    "], dtype=np.int32)\n",
    "metabolite_disease_metabolite[:, [0, 2]] += num_microbe + num_disease  \n",
    "metabolite_disease_metabolite[:, 1] -= num_disease                   \n",
    "\n",
    "metabolite_disease_metabolite = metabolite_disease_metabolite[np.lexsort((\n",
    "    metabolite_disease_metabolite[:, 1],\n",
    "    metabolite_disease_metabolite[:, 2],\n",
    "    metabolite_disease_metabolite[:, 0]\n",
    "))]"
   ],
   "id": "40583fd480f52811"
  },
  {
   "metadata": {},
   "cell_type": "code",
   "outputs": [],
   "execution_count": null,
   "source": [
    "# 0-1-2-1-0 (microbe-disease-metabolite-disease-microbe)\n",
    "micro_d_meta_d_micro = []\n",
    "for d1, meta, d2 in disease_metabolite_disease:\n",
    "    if len(disease_microbe_list[d1 - num_microbe]) == 0 or len(disease_microbe_list[d2 - num_microbe]) == 0:\n",
    "        continue\n",
    "\n",
    "    candidate_microbe1_list = np.random.choice(\n",
    "        disease_microbe_list[d1 - num_microbe],\n",
    "        int(0.2 * len(disease_microbe_list[d1 - num_microbe])),\n",
    "        replace=False\n",
    "    )\n",
    "    candidate_microbe2_list = np.random.choice(\n",
    "        disease_microbe_list[d2 - num_microbe],\n",
    "        int(0.2 * len(disease_microbe_list[d2 - num_microbe])),\n",
    "        replace=False\n",
    "    )\n",
    "    \n",
    "    micro_d_meta_d_micro.extend(\n",
    "        (microbe1, d1, meta, d2, microbe2) \n",
    "        for microbe1 in candidate_microbe1_list \n",
    "        for microbe2 in candidate_microbe2_list\n",
    "    )\n",
    "\n",
    "micro_d_meta_d_micro = np.array(micro_d_meta_d_micro, dtype=np.int32)\n",
    "micro_d_meta_d_micro = micro_d_meta_d_micro[np.lexsort((\n",
    "    micro_d_meta_d_micro[:, 3],  # Sort by meta (3rd column)\n",
    "    micro_d_meta_d_micro[:, 2],  # then by d2 (4th column)\n",
    "    micro_d_meta_d_micro[:, 1],  # then by d1 (2nd column)\n",
    "    micro_d_meta_d_micro[:, 4],  # then by microbe1 (1st column)\n",
    "    micro_d_meta_d_micro[:, 0]   # and finally by microbe2 (5th column)\n",
    "))]"
   ],
   "id": "d8192f3c7eb08c32"
  },
  {
   "metadata": {},
   "cell_type": "code",
   "outputs": [],
   "execution_count": null,
   "source": [
    "# 1-0-2-0-1 (disease-microbe-metabolite-microbe-disease)\n",
    "d_micro_meta_micro_d = []\n",
    "for micro1, meta, micro2 in microbe_metabolite_microbe:\n",
    "    if len(microbe_disease_list[micro1]) == 0 or len(microbe_disease_list[micro2]) == 0:\n",
    "        continue\n",
    "\n",
    "    candidate_d1_list = np.random.choice(\n",
    "        microbe_disease_list[micro1],\n",
    "        int(0.2 * len(microbe_disease_list[micro1])),\n",
    "        replace=False\n",
    "    )\n",
    "    candidate_d2_list = np.random.choice(\n",
    "        microbe_disease_list[micro2],\n",
    "        int(0.2 * len(microbe_disease_list[micro2])),\n",
    "        replace=False\n",
    "    )\n",
    "\n",
    "    d_micro_meta_micro_d.extend(\n",
    "        (d1, micro1, meta, micro2, d2)\n",
    "        for d1 in candidate_d1_list\n",
    "        for d2 in candidate_d2_list\n",
    "    )\n",
    "\n",
    "d_micro_meta_micro_d = np.array(d_micro_meta_micro_d, dtype=np.int32)\n",
    "d_micro_meta_micro_d = d_micro_meta_micro_d[np.lexsort((\n",
    "    d_micro_meta_micro_d[:, 3],  \n",
    "    d_micro_meta_micro_d[:, 2],  \n",
    "    d_micro_meta_micro_d[:, 1],  \n",
    "    d_micro_meta_micro_d[:, 4],  \n",
    "    d_micro_meta_micro_d[:, 0] \n",
    "))]"
   ],
   "id": "5aa0f9a0011ab66f"
  },
  {
   "metadata": {},
   "cell_type": "code",
   "outputs": [],
   "execution_count": null,
   "source": [
    "# 0-2-1-2-0 (microbe-metabolite-disease-metabolite-microbe)\n",
    "micro_meta_d_meta_micro = []\n",
    "for meta1, d, meta2 in metabolite_disease_metabolite:\n",
    "    if len(metabolite_microbe_list[meta1 - num_microbe - num_disease]) == 0 or len(metabolite_microbe_list[meta2 - num_microbe - num_disease]) == 0:\n",
    "        continue\n",
    "\n",
    "    candidate_micro1_list = np.random.choice(\n",
    "        metabolite_microbe_list[meta1 - num_microbe - num_disease],\n",
    "        int(0.2 * len(metabolite_microbe_list[meta1 - num_microbe - num_disease])),\n",
    "        replace=False\n",
    "    )\n",
    "    candidate_micro2_list = np.random.choice(\n",
    "        metabolite_microbe_list[meta2 - num_microbe - num_disease],\n",
    "        int(0.2 * len(metabolite_microbe_list[meta2 - num_microbe - num_disease])),\n",
    "        replace=False\n",
    "    )\n",
    "\n",
    "    micro_meta_d_meta_micro.extend(\n",
    "        (micro1, meta1, d, meta2, micro2)\n",
    "        for micro1 in candidate_micro1_list\n",
    "        for micro2 in candidate_micro2_list\n",
    "    )\n",
    "\n",
    "micro_meta_d_meta_micro = np.array(micro_meta_d_meta_micro, dtype=np.int32)\n",
    "micro_meta_d_meta_micro = micro_meta_d_meta_micro[np.lexsort((\n",
    "    micro_meta_d_meta_micro[:, 3],  \n",
    "    micro_meta_d_meta_micro[:, 2],  \n",
    "    micro_meta_d_meta_micro[:, 1],  \n",
    "    micro_meta_d_meta_micro[:, 4],  \n",
    "    micro_meta_d_meta_micro[:, 0]\n",
    "))]"
   ],
   "id": "41269c6330b9f0b3"
  },
  {
   "metadata": {},
   "cell_type": "code",
   "outputs": [],
   "execution_count": null,
   "source": [
    "# 1-0-1 (disease-microbe-disease)\n",
    "disease_microbe_disease = np.array([\n",
    "    (d1, microbe, d2)\n",
    "    for microbe, disease_list in microbe_disease_list.items()\n",
    "    for d1 in disease_list\n",
    "    for d2 in disease_list\n",
    "], dtype=np.int32)\n",
    "disease_microbe_disease[:, [0, 2]] += num_microbe\n",
    "\n",
    "disease_microbe_disease = disease_microbe_disease[np.lexsort((\n",
    "    disease_microbe_disease[:, 1],  \n",
    "    disease_microbe_disease[:, 2],  \n",
    "    disease_microbe_disease[:, 0]\n",
    "))]"
   ],
   "id": "c4d077d2d4cdc52e"
  },
  {
   "metadata": {},
   "cell_type": "code",
   "outputs": [],
   "execution_count": null,
   "source": [
    "# 2-0-2 (metabolite-microbe-metabolite)\n",
    "metabolite_microbe_metabolite = np.array([\n",
    "    (meta1, microbe, meta2)\n",
    "    for microbe, metabolite_list in microbe_metabolite_list.items()\n",
    "    for meta1 in metabolite_list\n",
    "    for meta2 in metabolite_list\n",
    "], dtype=np.int32)\n",
    "metabolite_microbe_metabolite[:, [0, 2]] += num_microbe + num_disease\n",
    "\n",
    "metabolite_microbe_metabolite = metabolite_microbe_metabolite[np.lexsort((\n",
    "    metabolite_microbe_metabolite[:, 1],  \n",
    "    metabolite_microbe_metabolite[:, 2],\n",
    "    metabolite_microbe_metabolite[:, 0]\n",
    "))]"
   ],
   "id": "8cde5ed30b7406fd"
  },
  {
   "metadata": {},
   "cell_type": "code",
   "outputs": [],
   "execution_count": null,
   "source": [
    "# 1-2-0-2-1 (disease-metabolite-microbe-metabolite-disease)\n",
    "d_meta_micro_meta_d = []\n",
    "for meta1, micro, meta2 in metabolite_microbe_metabolite.items():\n",
    "    if len(metabolite_disease_list[meta1 - num_microbe - num_disease]) == 0 or len(metabolite_disease_list[meta2 - num_microbe - num_disease]) == 0:\n",
    "        continue\n",
    "\n",
    "    candidate_d1_list = np.random.choice(\n",
    "        metabolite_disease_list[meta1 - num_microbe - num_disease],\n",
    "        int(0.2 * len(metabolite_disease_list[meta1 - num_microbe - num_disease])),\n",
    "        replace=False\n",
    "    )\n",
    "    candidate_d2_list = np.random.choice(\n",
    "        metabolite_disease_list[meta2 - num_microbe - num_disease],\n",
    "        int(0.2 * len(metabolite_disease_list[meta2 - num_microbe - num_disease])),\n",
    "        replace=False\n",
    "    )\n",
    "\n",
    "    d_meta_micro_meta_d.extend(\n",
    "        (d1, meta1, micro, meta2, d2)\n",
    "        for d1 in candidate_d1_list\n",
    "        for d2 in candidate_d2_list\n",
    "    )\n",
    "\n",
    "d_meta_micro_meta_d = np.array(d_meta_micro_meta_d, dtype=np.int32)\n",
    "\n",
    "d_meta_micro_meta_d = d_meta_micro_meta_d[np.lexsort((\n",
    "    d_meta_micro_meta_d[:, 3],\n",
    "    d_meta_micro_meta_d[:, 2],\n",
    "    d_meta_micro_meta_d[:, 1],\n",
    "    d_meta_micro_meta_d[:, 4],\n",
    "    d_meta_micro_meta_d[:, 0]\n",
    "))]"
   ],
   "id": "ea04db825e7c992e"
  },
  {
   "metadata": {},
   "cell_type": "code",
   "outputs": [],
   "execution_count": null,
   "source": [
    "# 2-0-1-0-2 (metabolite-microbe-disease-microbe-metabolite)\n",
    "meta_micro_d_micro_meta = []\n",
    "for micro1, d, micro2 in microbe_metabolite_microbe.items():\n",
    "    if len(microbe_metabolite_list[micro1]) == 0 or len(microbe_metabolite_list[micro2]) == 0:\n",
    "        continue\n",
    "\n",
    "    candidate_meta1_list = np.random.choice(\n",
    "        microbe_metabolite_list[micro1],\n",
    "        int(0.2 * len(microbe_metabolite_list[micro1])),\n",
    "        replace=False\n",
    "    )\n",
    "    candidate_meta2_list = np.random.choice(\n",
    "        microbe_metabolite_list[micro2],\n",
    "        int(0.2 * len(microbe_metabolite_list[micro2])),\n",
    "        replace=False\n",
    "    )\n",
    "\n",
    "    meta_micro_d_micro_meta.extend(\n",
    "        (meta1, micro1, d, micro2, meta2)\n",
    "        for meta1 in candidate_meta1_list\n",
    "        for meta2 in candidate_meta2_list\n",
    "    )\n",
    "\n",
    "meta_micro_d_micro_meta = np.array(meta_micro_d_micro_meta, dtype=np.int32)\n",
    "\n",
    "meta_micro_d_micro_meta = meta_micro_d_micro_meta[np.lexsort((\n",
    "    meta_micro_d_micro_meta[:, 3],\n",
    "    meta_micro_d_micro_meta[:, 2],\n",
    "    meta_micro_d_micro_meta[:, 1],\n",
    "    meta_micro_d_micro_meta[:, 4],\n",
    "    meta_micro_d_micro_meta[:, 0]\n",
    "))]"
   ],
   "id": "915c903d63ab037f"
  },
  {
   "metadata": {},
   "cell_type": "code",
   "outputs": [],
   "execution_count": null,
   "source": [
    "# 2-1-0-1-2 (metabolite-disease-microbe-disease-metabolite)\n",
    "meta_d_micro_d_meta = []\n",
    "for d1, micro, d2 in disease_microbe_disease.items():\n",
    "    if len(disease_metabolite_list[d1 - num_microbe]) == 0 or len(disease_metabolite_list[d2 - num_microbe]) == 0:\n",
    "        continue\n",
    "\n",
    "    candidate_meta1_list = np.random.choice(\n",
    "        disease_metabolite_list[d1 - num_microbe],\n",
    "        int(0.2 * len(disease_metabolite_list[d1 - num_microbe])),\n",
    "        replace=False\n",
    "    )\n",
    "    candidate_meta2_list = np.random.choice(\n",
    "        disease_metabolite_list[d2 - num_microbe],\n",
    "        int(0.2 * len(disease_metabolite_list[d2 - num_microbe])),\n",
    "        replace=False\n",
    "    )\n",
    "\n",
    "    meta_d_micro_d_meta.extend(\n",
    "        (meta1, d1, micro, d2, meta2)\n",
    "        for meta1 in candidate_meta1_list\n",
    "        for meta2 in candidate_meta2_list\n",
    "    )\n",
    "\n",
    "meta_d_micro_d_meta = np.array(meta_d_micro_d_meta, dtype=np.int32)\n",
    "\n",
    "meta_d_micro_d_meta = meta_d_micro_d_meta[np.lexsort((\n",
    "    meta_d_micro_d_meta[:, 3], \n",
    "    meta_d_micro_d_meta[:, 2],\n",
    "    meta_d_micro_d_meta[:, 1],\n",
    "    meta_d_micro_d_meta[:, 4],\n",
    "    meta_d_micro_d_meta[:, 0]\n",
    "))]"
   ],
   "id": "1f381863710f21d6"
  },
  {
   "metadata": {},
   "cell_type": "code",
   "outputs": [],
   "execution_count": null,
   "source": [
    "# adjust batch_size based on memory\n",
    "batch_size = 100000\n",
    "\n",
    "expected_metapaths = [\n",
    "    (0, 1, 0), (0, 2, 0), (1, 0, 1), (2, 0, 2), (1, 2, 1), (2, 1, 2),  \n",
    "    (0, 1, 2, 1, 0), (1, 0, 2, 0, 1), (0, 2, 1, 2, 0), (1, 2, 0, 2, 1), (2, 0, 1, 0, 2), (2, 1, 0, 1, 2)\n",
    "]\n",
    "\n",
    "metapath_indices_mapping = {\n",
    "    (0, 1, 0): microbe_disease_microbe,\n",
    "    (0, 2, 0): microbe_metabolite_microbe,\n",
    "    (1, 0, 1): disease_microbe_disease,\n",
    "    (2, 0, 2): metabolite_microbe_metabolite,\n",
    "    (1, 2, 1): disease_metabolite_disease,\n",
    "    (2, 1, 2): metabolite_disease_metabolite,\n",
    "    (0, 1, 2, 1, 0): micro_d_meta_d_micro,\n",
    "    (1, 0, 2, 0, 1): d_micro_meta_micro_d,\n",
    "    (0, 2, 1, 2, 0): micro_meta_d_meta_micro,\n",
    "    (1, 2, 0, 2, 1): d_meta_micro_meta_d,\n",
    "    (2, 0, 1, 0, 2): meta_micro_d_micro_meta,\n",
    "    (2, 1, 0, 1, 2): meta_d_micro_d_meta\n",
    "}\n",
    "\n",
    "target_idx_lists = [np.arange(num_microbe), np.arange(num_disease)]\n",
    "offset_list = [0, num_microbe]\n",
    "\n",
    "for i, metapath in enumerate(expected_metapaths):\n",
    "    edge_metapath_idx_array = metapath_indices_mapping[metapath]\n",
    "    save_dir = f\"{save_prefix}{i}\"\n",
    "    \n",
    "    if len(metapath) == 3:\n",
    "        target_idx_list = target_idx_lists[0] if metapath[0] == 0 else target_idx_lists[1]\n",
    "        offset = offset_list[0] if metapath[0] == 0 else offset_list[1]\n",
    "    else:\n",
    "        target_idx_list = target_idx_lists[0] if metapath[0] == 0 else target_idx_lists[1]\n",
    "        offset = offset_list[0] if metapath[0] == 0 else offset_list[1]\n",
    "    \n",
    "    # Define sort columns based on metapath type\n",
    "    sort_columns = (0, 2, 1) if len(metapath) == 3 else (0, 4, 1, 2, 3)\n",
    "\n",
    "    # Process and save the metapath data in batches\n",
    "    process_and_save_metapath_batches(\n",
    "        metapath=metapath,\n",
    "        edges=edge_metapath_idx_array,\n",
    "        batch_size=batch_size,\n",
    "        sort_columns=sort_columns,\n",
    "        target_idx_list=target_idx_list,\n",
    "        offset=offset,\n",
    "        save_dir=save_dir\n",
    "    )\n",
    "\n",
    "# Save the adjacency matrix and type mask\n",
    "scipy.sparse.save_npz(f\"{save_prefix}adjM.npz\", scipy.sparse.csr_matrix(adjM))\n",
    "np.save(f\"{save_prefix}node_types.npy\", type_mask)"
   ],
   "id": "740db58870c38d04"
  },
  {
   "metadata": {
    "ExecuteTime": {
     "end_time": "2024-11-08T06:00:11.576946Z",
     "start_time": "2024-11-04T17:12:28.033694Z"
    }
   },
   "cell_type": "code",
   "source": [
    "# # 0-1-0 (microbe-disease-microbe)\n",
    "# microbe_disease_microbe = []\n",
    "# for disease, microbe_list in disease_microbe_list.items():\n",
    "#     microbe_disease_microbe.extend(\n",
    "#         [(microbe1, disease, microbe2) for microbe1 in microbe_list for microbe2 in microbe_list]\n",
    "#     )\n",
    "# microbe_disease_microbe = np.array(microbe_disease_microbe)\n",
    "# # map the disease index back to the index in the adjacency matrix\n",
    "# microbe_disease_microbe[:, 1] += num_microbe\n",
    "# sorted_index = sorted(list(range(len(microbe_disease_microbe))), \n",
    "#                       key=lambda i :microbe_disease_microbe[i, [0, 2, 1]].tolist())\n",
    "# microbe_disease_microbe = microbe_disease_microbe[sorted_index]\n",
    "# \n",
    "# # 0-2-0 (microbe-metabolite-microbe)\n",
    "# microbe_metabolite_microbe = []\n",
    "# for metabolite, microbe_list in metabolite_microbe_list.items():\n",
    "#     microbe_metabolite_microbe.extend(\n",
    "#         [(microbe1, metabolite, microbe2) for microbe1 in microbe_list for microbe2 in microbe_list]\n",
    "#     )\n",
    "# microbe_metabolite_microbe = np.array(microbe_metabolite_microbe)\n",
    "# microbe_metabolite_microbe[:, 1] += num_microbe + num_disease\n",
    "# sorted_index = sorted(list(range(len(microbe_metabolite_microbe))), \n",
    "#                       key=lambda i : microbe_metabolite_microbe[i, [0, 2, 1]].tolist())\n",
    "# microbe_metabolite_microbe = microbe_metabolite_microbe[sorted_index]\n",
    "# \n",
    "# # 1-2-1 (disease-metabolite-disease)\n",
    "# disease_metabolite_disease = []\n",
    "# for metabolite, disease_list in metabolite_disease_list.items():\n",
    "#     disease_metabolite_disease.extend([(d1, metabolite, d2) for d1 in disease_list for d2 in disease_list])\n",
    "# disease_metabolite_disease = np.array(disease_metabolite_disease)\n",
    "# disease_metabolite_disease += num_microbe\n",
    "# disease_metabolite_disease[:, 1] += num_disease\n",
    "# sorted_index = sorted(list(range(len(disease_metabolite_disease))), \n",
    "#                       key=lambda i : disease_metabolite_disease[i, [0, 2, 1]].tolist())\n",
    "# disease_metabolite_disease = disease_metabolite_disease[sorted_index]\n",
    "# \n",
    "# # 2-1-2 (metabolite-disease-metabolite)\n",
    "# metabolite_disease_metabolite = []\n",
    "# for disease, metabolite_list in disease_metabolite_list.items():\n",
    "#     metabolite_disease_metabolite.extend([(m1, disease, m2) for m1 in metabolite_list for m2 in metabolite_list])\n",
    "# metabolite_disease_metabolite = np.array(metabolite_disease_metabolite)\n",
    "# metabolite_disease_metabolite += num_microbe + num_disease\n",
    "# metabolite_disease_metabolite[:, 1] -= num_disease\n",
    "# sorted_index = sorted(list(range(len(metabolite_disease_metabolite))), \n",
    "#                       key=lambda i : metabolite_disease_metabolite[i, [0, 2, 1]].tolist())\n",
    "# metabolite_disease_metabolite = metabolite_disease_metabolite[sorted_index]\n",
    "# \n",
    "# # 0-1-2-1-0 (microbe-disease-metabolite-disease-microbe)\n",
    "# micro_d_meta_d_micro = []\n",
    "# for d1, meta, d2 in disease_metabolite_disease:\n",
    "#     # filter out diseases without microbe connections\n",
    "#     if len(disease_microbe_list[d1 - num_microbe]) == 0 or len(disease_microbe_list[d2 - num_microbe]) == 0:\n",
    "#         continue\n",
    "#     candidate_microbe1_list = np.random.choice(len(disease_microbe_list[d1 - num_microbe]), int(0.2 * len(disease_microbe_list[d1 - num_microbe])), replace=False)\n",
    "#     candidate_microbe1_list = disease_microbe_list[d1 - num_microbe][candidate_microbe1_list]\n",
    "#     candidate_microbe2_list = np.random.choice(len(disease_microbe_list[d2 - num_microbe]), int(0.2 * len(disease_microbe_list[d2 - num_microbe])), replace=False)\n",
    "#     candidate_microbe2_list = disease_microbe_list[d2 - num_microbe][candidate_microbe2_list]\n",
    "#     micro_d_meta_d_micro.extend(\n",
    "#         [\n",
    "#             (microbe1, d1, meta, d2, microbe2) \n",
    "#             for microbe1 in candidate_microbe1_list \n",
    "#             for microbe2 in candidate_microbe2_list\n",
    "#         ]\n",
    "#     )\n",
    "# micro_d_meta_d_micro = np.array(micro_d_meta_d_micro)\n",
    "# sorted_index = sorted(list(range(len(micro_d_meta_d_micro))), \n",
    "#                       key=lambda i : micro_d_meta_d_micro[i, [0, 4, 1, 2, 3]].tolist())\n",
    "# micro_d_meta_d_micro = micro_d_meta_d_micro[sorted_index]\n",
    "# \n",
    "# # 1-0-2-0-1 (disease-microbe-metabolite-microbe-disease)\n",
    "# d_micro_meta_micro_d = []\n",
    "# for micro1, meta, micro2 in microbe_metabolite_microbe:\n",
    "#     # filter out diseases without microbe connections\n",
    "#     if len(microbe_disease_list[micro1]) == 0 or len(microbe_disease_list[micro2]) == 0:\n",
    "#         continue\n",
    "#     candidate_d1_list = np.random.choice(len(microbe_disease_list[micro1]), \n",
    "#                                          int(0.2 * len(microbe_disease_list[micro1])), \n",
    "#                                          replace=False)\n",
    "#     candidate_d1_list = microbe_disease_list[micro1][candidate_d1_list]\n",
    "#     candidate_d2_list = np.random.choice(len(microbe_disease_list[micro2]), \n",
    "#                                          int(0.2 * len(microbe_disease_list[micro2])), \n",
    "#                                          replace=False)\n",
    "#     candidate_d2_list = microbe_disease_list[micro2][candidate_d2_list]\n",
    "#     d_micro_meta_micro_d.extend(\n",
    "#         [\n",
    "#             (d1, micro1, meta, micro2, d2) \n",
    "#             for d1 in candidate_d1_list \n",
    "#             for d2 in candidate_d2_list\n",
    "#         ]\n",
    "#     )\n",
    "# d_micro_meta_micro_d = np.array(d_micro_meta_micro_d)\n",
    "# sorted_index = sorted(list(range(len(d_micro_meta_micro_d))), \n",
    "#                       key=lambda i : d_micro_meta_micro_d[i, [0, 4, 1, 2, 3]].tolist())\n",
    "# d_micro_meta_micro_d = d_micro_meta_micro_d[sorted_index]\n",
    "# \n",
    "# # 0-2-1-2-0 (microbe-metabolite-disease-metabolite-microbe)\n",
    "# micro_meta_d_meta_micro = []\n",
    "# for meta1, d, meta2 in metabolite_disease_metabolite:\n",
    "#     # filter out microbes without metabolite connections\n",
    "#     if (len(metabolite_microbe_list[meta1 - num_microbe - num_disease]) == 0 or \n",
    "#             len(metabolite_microbe_list[meta2 - num_microbe - num_disease]) == 0):\n",
    "#         continue\n",
    "#     candidate_micro1_list = np.random.choice(\n",
    "#         len(metabolite_microbe_list[meta1 - num_microbe - num_disease]), \n",
    "#         int(0.2 * len(metabolite_microbe_list[meta1 - num_microbe - num_disease])), \n",
    "#         replace=False\n",
    "#     )\n",
    "#     candidate_micro1_list = metabolite_microbe_list[meta1 - num_microbe - num_disease][candidate_micro1_list]\n",
    "#     candidate_micro2_list = np.random.choice(\n",
    "#         len(metabolite_microbe_list[meta2 - num_microbe - num_disease]), \n",
    "#         int(0.2 * len(metabolite_microbe_list[meta2 - num_microbe - num_disease])), \n",
    "#         replace=False\n",
    "#     )\n",
    "#     candidate_micro2_list = metabolite_microbe_list[meta2 - metabolite_microbe_list][candidate_micro2_list]\n",
    "#     micro_meta_d_meta_micro.extend(\n",
    "#         [\n",
    "#             (micro1, meta1, d, meta2, micro2) \n",
    "#             for micro1 in candidate_micro1_list\n",
    "#             for micro2 in candidate_micro2_list\n",
    "#         ]\n",
    "#     )\n",
    "# micro_meta_d_meta_micro = np.array(micro_meta_d_meta_micro)\n",
    "# sorted_index = sorted(list(range(len(micro_meta_d_meta_micro))), \n",
    "#                       key=lambda i : micro_meta_d_meta_micro[i, [0, 4, 1, 2, 3]].tolist())\n",
    "# micro_meta_d_meta_micro = micro_meta_d_meta_micro[sorted_index]\n",
    "# \n",
    "# # 1-0-1 (disease-microbe-disease)\n",
    "# disease_microbe_disease = []\n",
    "# for microbe, disease_list in microbe_disease_list.items():\n",
    "#     disease_microbe_disease.extend([(d1, microbe, d2) for d1 in disease_list for d2 in disease_list])\n",
    "# disease_microbe_disease = np.array(disease_microbe_disease)\n",
    "# disease_microbe_disease[:, [0, 2]] += num_microbe\n",
    "# sorted_index = sorted(list(range(len(disease_microbe_disease))), \n",
    "#                       key=lambda i :disease_microbe_disease[i, [0, 2, 1]].tolist())\n",
    "# disease_microbe_disease = disease_microbe_disease[sorted_index]\n",
    "# \n",
    "# # 2-0-2 (metabolite-microbe-metabolite)\n",
    "# metabolite_microbe_metabolite = []\n",
    "# for microbe, metabolite_list in microbe_metabolite_list.items():\n",
    "#     metabolite_microbe_metabolite.extend([(meta1, microbe, meta2) for meta1 in metabolite_list for meta2 in metabolite_list])\n",
    "# metabolite_microbe_metabolite = np.array(metabolite_microbe_metabolite)\n",
    "# metabolite_microbe_metabolite[:, [0, 2]] += num_microbe + num_disease\n",
    "# sorted_index = sorted(list(range(len(metabolite_microbe_metabolite))), \n",
    "#                       key=lambda i : metabolite_microbe_metabolite[i, [0, 2, 1]].tolist())\n",
    "# metabolite_microbe_metabolite = metabolite_microbe_metabolite[sorted_index]\n",
    "# \n",
    "# # 1-2-0-2-1 (disease-metabolite-microbe-metabolite-disease)\n",
    "# d_meta_micro_meta_d = []\n",
    "# for meta1, micro, meta2 in metabolite_microbe_metabolite.items():\n",
    "#     if len(metabolite_disease_list[meta1 - num_microbe - num_disease]) == 0 or len(metabolite_disease_list[meta2 - num_microbe - num_disease]) == 0:\n",
    "#         continue\n",
    "#     candidate_d1_list = np.random.choice(len(metabolite_disease_list[meta1 - num_microbe - num_disease]), int(0.2 * len(metabolite_disease_list[meta1 - num_microbe - num_disease])), replace=False)\n",
    "#     candidate_d1_list = metabolite_disease_list[meta1 - num_microbe - num_disease][candidate_d1_list]\n",
    "#     candidate_d2_list = np.random.choice(len(metabolite_disease_list[meta2 - num_microbe - num_disease]), int(0.2 * len(metabolite_disease_list[meta2 - num_microbe - num_disease])), replace=False)\n",
    "#     candidate_d2_list = metabolite_disease_list[meta2 - num_microbe - num_disease][candidate_d2_list]\n",
    "#     d_meta_micro_meta_d.extend(\n",
    "#         [\n",
    "#             (d1, meta1, micro, meta2, d2) \n",
    "#             for d1 in candidate_d1_list \n",
    "#             for d2 in candidate_d2_list\n",
    "#         ]\n",
    "#     )\n",
    "# d_meta_micro_meta_d = np.array(d_meta_micro_meta_d)\n",
    "# sorted_index = sorted(list(range(len(d_meta_micro_meta_d))), \n",
    "#                       key=lambda i : d_meta_micro_meta_d[i, [0, 4, 1, 2, 3]].tolist())\n",
    "# d_meta_micro_meta_d = d_meta_micro_meta_d[sorted_index]\n",
    "# \n",
    "# # 2-0-1-0-2 (metabolite-microbe-disease-microbe-metabolite)\n",
    "# meta_micro_d_micro_meta = []\n",
    "# for micro1, d, micro2 in microbe_metabolite_microbe.items():\n",
    "#     if len(microbe_metabolite_list[micro1]) == 0 or len(microbe_metabolite_list[micro2]) == 0:\n",
    "#         continue\n",
    "#     candidate_meta1_list = np.random.choice(len(microbe_metabolite_list[micro1]), int(0.2 * len(microbe_metabolite_list[micro1])), replace=False)\n",
    "#     candidate_meta1_list = microbe_metabolite_list[micro1][candidate_meta1_list]\n",
    "#     candidate_meta2_list = np.random.choice(len(microbe_metabolite_list[micro2]), int(0.2 * len(microbe_metabolite_list[micro2])), replace=False)\n",
    "#     candidate_meta2_list = microbe_metabolite_list[micro2][candidate_meta2_list]\n",
    "#     meta_micro_d_micro_meta.extend(\n",
    "#         [\n",
    "#             (meta1, micro1, d, micro2, meta2) \n",
    "#             for meta1 in candidate_meta1_list \n",
    "#             for meta2 in candidate_meta2_list\n",
    "#         ]\n",
    "#     )\n",
    "# meta_micro_d_micro_meta = np.array(meta_micro_d_micro_meta)\n",
    "# sorted_index = sorted(list(range(len(meta_micro_d_micro_meta))), \n",
    "#                       key=lambda i : meta_micro_d_micro_meta[i, [0, 4, 1, 2, 3]].tolist())\n",
    "# meta_micro_d_micro_meta = meta_micro_d_micro_meta[sorted_index]\n",
    "# \n",
    "# # 2-1-0-1-2 (metabolite-disease-microbe-disease-metabolite)\n",
    "# meta_d_micro_d_meta = []\n",
    "# for d1, micro, d2 in disease_microbe_disease.items():\n",
    "#     if len(disease_metabolite_list[d1 - num_microbe]) == 0 or len(disease_metabolite_list[d2 - num_microbe]) == 0:\n",
    "#         continue\n",
    "#     candidate_meta1_list = np.random.choice(len(disease_metabolite_list[d1 - num_microbe]), int(0.2 * len(disease_metabolite_list[d1 - num_microbe])), replace=False)\n",
    "#     candidate_meta1_list = disease_metabolite_list[d1 - num_microbe][candidate_meta1_list]\n",
    "#     candidate_meta2_list = np.random.choice(len(disease_metabolite_list[d2 - num_microbe]), int(0.2 * len(disease_metabolite_list[d2 - num_microbe])), replace=False)\n",
    "#     candidate_meta2_list = disease_metabolite_list[d2 - num_microbe][candidate_meta2_list]\n",
    "#     meta_d_micro_d_meta.extend(\n",
    "#         [\n",
    "#             (meta1, d1, micro, d2, meta2) \n",
    "#             for meta1 in candidate_meta1_list \n",
    "#             for meta2 in candidate_meta2_list\n",
    "#         ]\n",
    "#     )\n",
    "# meta_d_micro_d_meta = np.array(meta_d_micro_d_meta)\n",
    "# sorted_index = sorted(list(range(len(meta_d_micro_d_meta))), \n",
    "#                       key=lambda i : meta_d_micro_d_meta[i, [0, 4, 1, 2, 3]].tolist())\n",
    "# meta1_d1_micro_d2_meta2 = meta_d_micro_d_meta[sorted_index]"
   ],
   "id": "4039272e32a4a216",
   "outputs": [],
   "execution_count": null
  },
  {
   "metadata": {},
   "cell_type": "code",
   "outputs": [],
   "execution_count": null,
   "source": [
    "expected_metapaths = [(0, 1, 0), (0, 2, 0), (1, 0, 1), (2, 0, 2), (1, 2, 1), (2, 1, 2),  \n",
    "                      (0, 1, 2, 1, 0), (1, 0, 2, 0, 1), (0, 2, 1, 2, 0), (1, 2, 0, 2, 1), (2-0-1-0-2),  (2-1-0-1-2)] \n",
    "# create the directories if they do not exist\n",
    "for i in range(len(expected_metapaths)):\n",
    "    pathlib.Path(save_prefix + '{}'.format(i)).mkdir(parents=True, exist_ok=True)\n",
    "\n",
    "metapath_indices_mapping = {\n",
    "    (0, 1, 0): microbe_disease_microbe,\n",
    "    (0, 2, 0): microbe_metabolite_microbe,\n",
    "    (1, 0, 1): disease_microbe_disease,\n",
    "    (2, 0, 2): metabolite_microbe_metabolite,\n",
    "    (1, 2, 1): disease_metabolite_disease,\n",
    "    (2, 1, 2): metabolite_disease_metabolite,\n",
    "    (0, 1, 2, 1, 0): micro_d_meta_d_micro,\n",
    "    (1, 0, 2, 0, 1): d_micro_meta_micro_d,\n",
    "    (0, 2, 1, 2, 0): micro_meta_d_meta_micro,\n",
    "    (1, 2, 0, 2, 1): d_meta_micro_meta_d,\n",
    "    (2, 0, 1, 0, 2): meta_micro_d_micro_meta,\n",
    "    (2, 1, 0, 1, 2): meta_d_micro_d_meta\n",
    "}\n",
    "\n",
    "# write all things\n",
    "target_idx_lists = [np.arange(num_microbe), np.arange(num_disease)]\n",
    "offset_list = [0, num_microbe]\n",
    "for i, metapaths in enumerate(expected_metapaths):\n",
    "    for metapath in metapaths:\n",
    "        edge_metapath_idx_array = metapath_indices_mapping[metapath]\n",
    "        \n",
    "        with open(save_prefix + '{}/'.format(i) + '-'.join(map(str, metapath)) + '_idx.pickle', 'wb') as out_file:\n",
    "            target_metapaths_mapping = {}\n",
    "            left = 0\n",
    "            right = 0\n",
    "            for target_idx in target_idx_lists[i]:\n",
    "                while right < len(edge_metapath_idx_array) and edge_metapath_idx_array[right, 0] == target_idx + offset_list[i]:\n",
    "                    right += 1\n",
    "                target_metapaths_mapping[target_idx] = edge_metapath_idx_array[left:right, ::-1]\n",
    "                left = right\n",
    "            pickle.dump(target_metapaths_mapping, out_file)\n",
    "\n",
    "        #np.save(save_prefix + '{}/'.format(i) + '-'.join(map(str, metapath)) + '_idx.npy', edge_metapath_idx_array)\n",
    "        \n",
    "        with open(save_prefix + '{}/'.format(i) + '-'.join(map(str, metapath)) + '.adjlist', 'w') as out_file:\n",
    "            left = 0\n",
    "            right = 0\n",
    "            for target_idx in target_idx_lists[i]:\n",
    "                while right < len(edge_metapath_idx_array) and edge_metapath_idx_array[right, 0] == target_idx + offset_list[i]:\n",
    "                    right += 1\n",
    "                neighbors = edge_metapath_idx_array[left:right, -1] - offset_list[i]\n",
    "                neighbors = list(map(str, neighbors))\n",
    "                if len(neighbors) > 0:\n",
    "                    out_file.write('{} '.format(target_idx) + ' '.join(neighbors) + '\\n')\n",
    "                else:\n",
    "                    out_file.write('{}\\n'.format(target_idx))\n",
    "                left = right\n",
    "\n",
    "# save scipy sparse adjM \n",
    "scipy.sparse.save_npz(save_prefix + 'adjM.npz', scipy.sparse.csr_matrix(adjM))\n",
    "# save node type_mask\n",
    "np.save(save_prefix + 'node_types.npy', type_mask)"
   ],
   "id": "a26de5bc855ee5f5"
  },
  {
   "metadata": {},
   "cell_type": "code",
   "outputs": [],
   "execution_count": null,
   "source": [
    "# output microbe_disease.npy\n",
    "microbe_disease = pd.read_csv('data/raw/microbe_disease_idx.dat', encoding='utf-8', delimiter='\\t', names=['MicrobeID', 'DiseaseID'])\n",
    "microbe_disease = microbe_disease[['MicrobeID', 'DiseaseID']].to_numpy()\n",
    "np.save(save_prefix + 'microbe_disease.npy', microbe_disease)"
   ],
   "id": "d9f17bc59590e133"
  },
  {
   "metadata": {},
   "cell_type": "markdown",
   "source": "## Split data into training, validation and testing sets",
   "id": "341814aaa5c98df0"
  },
  {
   "metadata": {},
   "cell_type": "code",
   "outputs": [],
   "execution_count": null,
   "source": [
    "md_train, md_val, md_test = split_date(microbe_disease, train_ratio=0.7, val_ratio=0.2, test_ratio=0.1)\n",
    "# save_split_data2npz(md_train, md_val, md_test, \"data/micro_disease_train_val_test_idx.npz\")"
   ],
   "id": "870f7c11aa9a8099"
  },
  {
   "metadata": {},
   "cell_type": "code",
   "outputs": [],
   "execution_count": null,
   "source": [
    "# training: 70%, validation: 20%, testing: 10%\n",
    "train_val_test_idx = np.load(\"data/raw/micro_disease_train_val_test_idx.npz\")\n",
    "train_idx = train_val_test_idx['train']\n",
    "val_idx = train_val_test_idx['val']\n",
    "test_idx = train_val_test_idx['test']\n",
    "\n",
    "# reset microbe-disease index \n",
    "microbe_disease = microbe_disease.loc[train_idx].reset_index(drop=True)\n",
    "microbe_disease.head()\n",
    "print(f\"Length of Training data: {len(microbe_disease)}\")"
   ],
   "id": "4ea369739eefd2d2"
  },
  {
   "metadata": {},
   "cell_type": "markdown",
   "source": "## Output positive and negative samples for training, validation and testing sets",
   "id": "1ba9b125bc5c3f9"
  },
  {
   "metadata": {},
   "cell_type": "code",
   "outputs": [],
   "execution_count": null,
   "source": [
    "# output positive and negative samples for training, validation and testing\n",
    "np.random.seed(453289)\n",
    "save_prefix = 'data/preprocessed/microbe_disease_neg_pos_processed/'\n",
    "num_microbe = 8202\n",
    "num_disease = 898\n",
    "microbe_disease = np.load('data/preprocessed/microbe_disease.npy')\n",
    "train_val_test_idx = np.load('data/raw/micro_disease_train_val_test_idx.npz')\n",
    "train_idx = train_val_test_idx['train']\n",
    "val_idx = train_val_test_idx['val']\n",
    "test_idx = train_val_test_idx['test']\n",
    "\n",
    "neg_candidates = []\n",
    "counter = 0\n",
    "for i in range(num_microbe):\n",
    "    for j in range(num_disease):\n",
    "        if counter < len(num_disease):\n",
    "            if i == num_disease[counter, 0] and j == num_disease[counter, 1]:\n",
    "                counter += 1\n",
    "            else:\n",
    "                neg_candidates.append([i, j])\n",
    "        else:\n",
    "            neg_candidates.append([i, j])\n",
    "neg_candidates = np.array(neg_candidates)\n",
    "\n",
    "idx = np.random.choice(len(neg_candidates), len(val_idx) + len(test_idx), replace=False)\n",
    "val_neg_candidates = neg_candidates[sorted(idx[:len(val_idx)])]\n",
    "test_neg_candidates = neg_candidates[sorted(idx[len(val_idx):])]\n",
    "\n",
    "train_microbe_disease = microbe_disease[train_idx]\n",
    "train_neg_candidates = []\n",
    "counter = 0\n",
    "for i in range(num_microbe):\n",
    "    for j in range(num_disease):\n",
    "        if counter < len(train_microbe_disease):\n",
    "            if i == train_microbe_disease[counter, 0] and j == train_microbe_disease[counter, 1]:\n",
    "                counter += 1\n",
    "            else:\n",
    "                train_neg_candidates.append([i, j])\n",
    "        else:\n",
    "            train_neg_candidates.append([i, j])\n",
    "train_neg_candidates = np.array(train_neg_candidates)\n",
    "\n",
    "np.savez(save_prefix + 'train_val_test_neg_microbe_disease.npz',\n",
    "         train_neg_user_artist=train_neg_candidates,\n",
    "         val_neg_user_artist=val_neg_candidates,\n",
    "         test_neg_user_artist=test_neg_candidates)\n",
    "np.savez(save_prefix + 'train_val_test_pos_microbe_disease.npz',\n",
    "         train_pos_user_artist=microbe_disease[train_idx],\n",
    "         val_pos_user_artist=microbe_disease[val_idx],\n",
    "         test_pos_user_artist=microbe_disease[test_idx])"
   ],
   "id": "4805296156c916a5"
  }
 ],
 "metadata": {
  "kernelspec": {
   "display_name": "Python 3",
   "language": "python",
   "name": "python3"
  },
  "language_info": {
   "codemirror_mode": {
    "name": "ipython",
    "version": 2
   },
   "file_extension": ".py",
   "mimetype": "text/x-python",
   "name": "python",
   "nbconvert_exporter": "python",
   "pygments_lexer": "ipython2",
   "version": "2.7.6"
  }
 },
 "nbformat": 4,
 "nbformat_minor": 5
}

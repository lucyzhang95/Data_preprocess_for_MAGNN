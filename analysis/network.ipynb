{
 "cells": [
  {
   "cell_type": "code",
   "id": "initial_id",
   "metadata": {
    "ExecuteTime": {
     "end_time": "2024-09-04T17:51:52.988705Z",
     "start_time": "2024-09-04T17:51:51.921672Z"
    }
   },
   "source": [
    "import networkx as nx\n",
    "import pandas as pd\n",
    "import matplotlib.pyplot as plt\n",
    "\n",
    "from analysis_utils import *\n",
    "from networkx.algorithms.community import greedy_modularity_communities\n",
    "from networkx.drawing.nx_pydot import graphviz_layout"
   ],
   "outputs": [],
   "execution_count": 1
  },
  {
   "cell_type": "code",
   "id": "2cd59c5f538c9acb",
   "metadata": {
    "ExecuteTime": {
     "end_time": "2024-09-04T17:51:53.477311Z",
     "start_time": "2024-09-04T17:51:52.993899Z"
    }
   },
   "source": [
    "# Load the data\n",
    "disbiome_md_path = '../data/MAGNN_data/disbiome_taxid_mondo.dat'\n",
    "disbiome_md_df = load_data(disbiome_md_path, colname1=\"microbe\", colname2=\"disease\")\n",
    "gmmad2_md_path = '../data/MAGNN_data/gmmad2_taxid_mondo.dat'\n",
    "gmmad2_md_df = load_data(gmmad2_md_path, colname1=\"microbe\", colname2=\"disease\")\n",
    "md_combined_df = merge_df([disbiome_md_df, gmmad2_md_df])\n",
    "\n",
    "gmmad2_mm_path = '../data/MAGNN_data/gmmad2_taxid_met.dat'\n",
    "gmmad2_mm_df = load_data(gmmad2_mm_path, colname1=\"microbe\", colname2=\"metabolite\")\n",
    "hmdb_mm_path = '../data/MAGNN_data/hmdb_taxid_met.dat'\n",
    "hmdb_mm_df = load_data(hmdb_mm_path, colname1=\"microbe\", colname2=\"metabolite\")\n",
    "mm_combined_df = merge_df([gmmad2_mm_df, hmdb_mm_df])\n",
    "\n",
    "metd_path = \"../data/MAGNN_data/hmdb_met_disease.dat\"\n",
    "metd_df = load_data(metd_path,colname1=\"metabolite\", colname2=\"disease\")\n",
    "metd_df = merge_df([metd_df])"
   ],
   "outputs": [
    {
     "name": "stdout",
     "output_type": "stream",
     "text": [
      "Total count of edges: \n",
      "microbe    505325\n",
      "disease    505325\n",
      "dtype: int64\n",
      "Total count of edges: \n",
      "microbe       599176\n",
      "metabolite    599176\n",
      "dtype: int64\n",
      "Total count of edges: \n",
      "metabolite    27546\n",
      "disease       27546\n",
      "dtype: int64\n"
     ]
    }
   ],
   "execution_count": 2
  },
  {
   "cell_type": "code",
   "id": "e6395ced5a6b136d",
   "metadata": {
    "ExecuteTime": {
     "end_time": "2024-09-04T17:52:11.277016Z",
     "start_time": "2024-09-04T17:51:53.571865Z"
    }
   },
   "source": [
    "# create networkx graph\n",
    "G = nx.Graph()\n",
    "\n",
    "for _, row in md_combined_df.iterrows():\n",
    "    G.add_edge(row[\"microbe\"], row[\"disease\"])\n",
    "\n",
    "for _, row in mm_combined_df.iterrows():\n",
    "    G.add_edge(row['microbe'], row['metabolite'])\n",
    "\n",
    "for _, row in metd_df.iterrows():\n",
    "    G.add_edge(row['metabolite'], row['disease'])"
   ],
   "outputs": [],
   "execution_count": 3
  },
  {
   "cell_type": "code",
   "id": "c103bae932e9f475",
   "metadata": {
    "ExecuteTime": {
     "end_time": "2024-09-04T17:52:12.972382Z",
     "start_time": "2024-09-04T17:52:11.295144Z"
    }
   },
   "source": [
    "density = nx.density(G)\n",
    "components = nx.number_connected_components(G)\n",
    "degree_correlation = nx.degree_assortativity_coefficient(G)\n",
    "\n",
    "print(f\"Graph Density: {density*100}% of the possible connections between nodes\")\n",
    "print(f\"Number of distinct sub-networks within overall network: {components}\")\n",
    "print(f\"Degree Correlation where high-degree nodes are connected to peripheral nodes: {degree_correlation}\")"
   ],
   "outputs": [
    {
     "name": "stdout",
     "output_type": "stream",
     "text": [
      "Graph Density: 0.20888576318715205% of the possible connections between nodes\n",
      "Number of distinct sub-networks within overall network: 27\n",
      "Degree Correlation where high-degree nodes are connected to peripheral nodes: -0.38043422383946\n"
     ]
    }
   ],
   "execution_count": 4
  },
  {
   "metadata": {
    "ExecuteTime": {
     "end_time": "2024-09-04T17:52:13.006625Z",
     "start_time": "2024-09-04T17:52:12.989527Z"
    }
   },
   "cell_type": "code",
   "source": [
    "# calculate degree centrality\n",
    "degree_centrality = nx.degree_centrality(G)\n",
    "d_cen_nodes_df = pd.DataFrame(list(degree_centrality.items()), columns=['Node', 'Degree Centrality'])\n",
    "d_cen_nodes_df.set_index('Node', inplace=True)"
   ],
   "id": "93652716bf1624fb",
   "outputs": [],
   "execution_count": 5
  },
  {
   "metadata": {
    "ExecuteTime": {
     "end_time": "2024-09-04T17:52:13.039028Z",
     "start_time": "2024-09-04T17:52:13.031629Z"
    }
   },
   "cell_type": "code",
   "source": [
    "# show the top 10 highest node degree centrality\n",
    "top_degree = d_cen_nodes_df.nlargest(10, 'Degree Centrality')\n",
    "top_degree"
   ],
   "id": "e45f6f252bdc1a14",
   "outputs": [
    {
     "data": {
      "text/plain": [
       "               Degree Centrality\n",
       "Node                            \n",
       "MONDO:0010543           0.608013\n",
       "MONDO:0005101           0.198348\n",
       "MONDO:0005265           0.195948\n",
       "MONDO:0021085           0.194217\n",
       "MONDO:0005148           0.190086\n",
       "MONDO:0005052           0.189843\n",
       "MONDO:0005260           0.189478\n",
       "MONDO:0005335           0.189083\n",
       "MONDO:0005011           0.188506\n",
       "MONDO:0024388           0.187990"
      ],
      "text/html": [
       "<div>\n",
       "<style scoped>\n",
       "    .dataframe tbody tr th:only-of-type {\n",
       "        vertical-align: middle;\n",
       "    }\n",
       "\n",
       "    .dataframe tbody tr th {\n",
       "        vertical-align: top;\n",
       "    }\n",
       "\n",
       "    .dataframe thead th {\n",
       "        text-align: right;\n",
       "    }\n",
       "</style>\n",
       "<table border=\"1\" class=\"dataframe\">\n",
       "  <thead>\n",
       "    <tr style=\"text-align: right;\">\n",
       "      <th></th>\n",
       "      <th>Degree Centrality</th>\n",
       "    </tr>\n",
       "    <tr>\n",
       "      <th>Node</th>\n",
       "      <th></th>\n",
       "    </tr>\n",
       "  </thead>\n",
       "  <tbody>\n",
       "    <tr>\n",
       "      <th>MONDO:0010543</th>\n",
       "      <td>0.608013</td>\n",
       "    </tr>\n",
       "    <tr>\n",
       "      <th>MONDO:0005101</th>\n",
       "      <td>0.198348</td>\n",
       "    </tr>\n",
       "    <tr>\n",
       "      <th>MONDO:0005265</th>\n",
       "      <td>0.195948</td>\n",
       "    </tr>\n",
       "    <tr>\n",
       "      <th>MONDO:0021085</th>\n",
       "      <td>0.194217</td>\n",
       "    </tr>\n",
       "    <tr>\n",
       "      <th>MONDO:0005148</th>\n",
       "      <td>0.190086</td>\n",
       "    </tr>\n",
       "    <tr>\n",
       "      <th>MONDO:0005052</th>\n",
       "      <td>0.189843</td>\n",
       "    </tr>\n",
       "    <tr>\n",
       "      <th>MONDO:0005260</th>\n",
       "      <td>0.189478</td>\n",
       "    </tr>\n",
       "    <tr>\n",
       "      <th>MONDO:0005335</th>\n",
       "      <td>0.189083</td>\n",
       "    </tr>\n",
       "    <tr>\n",
       "      <th>MONDO:0005011</th>\n",
       "      <td>0.188506</td>\n",
       "    </tr>\n",
       "    <tr>\n",
       "      <th>MONDO:0024388</th>\n",
       "      <td>0.187990</td>\n",
       "    </tr>\n",
       "  </tbody>\n",
       "</table>\n",
       "</div>"
      ]
     },
     "execution_count": 6,
     "metadata": {},
     "output_type": "execute_result"
    }
   ],
   "execution_count": 6
  },
  {
   "metadata": {
    "ExecuteTime": {
     "end_time": "2024-09-04T18:15:58.621823Z",
     "start_time": "2024-09-04T18:15:58.593350Z"
    }
   },
   "cell_type": "code",
   "source": [
    "print(f\"Total number of nodes: {len(G.nodes())}\")\n",
    "one_nbr = nodes_with_m_nbrs(G, 1)\n",
    "print(f\"percent of 1 neighbor node: {len(one_nbr)/len(G.nodes())*100}%\")"
   ],
   "id": "9a97c16fe80f5ce6",
   "outputs": [
    {
     "name": "stdout",
     "output_type": "stream",
     "text": [
      "Total number of nodes: 32923\n",
      "Number of nodes with 1 neighbor(s): 21884\n",
      "percent of 1 neighbor node: 66.47024876226347%\n"
     ]
    }
   ],
   "execution_count": 16
  },
  {
   "metadata": {
    "ExecuteTime": {
     "end_time": "2024-09-04T17:52:13.148726Z",
     "start_time": "2024-09-04T17:52:13.124702Z"
    }
   },
   "cell_type": "code",
   "source": "degrees = [len(list(G.neighbors(node))) for node in G.nodes()]        ",
   "id": "9aab8b30c1adfca4",
   "outputs": [],
   "execution_count": 8
  },
  {
   "metadata": {
    "ExecuteTime": {
     "end_time": "2024-09-05T04:46:22.041017Z",
     "start_time": "2024-09-05T04:46:21.908852Z"
    }
   },
   "cell_type": "code",
   "source": [
    "# scatter plot with x as number of node neighbors and y as degree centrality (percent of the total number of connections a node has)\n",
    "plt.figure(figsize=(8, 8))\n",
    "plt.scatter(x=degrees, y=list(degree_centrality.values()), s=30)\n",
    "# plt.xlim(0, 2000)\n",
    "plt.xlabel(\"Node degrees\")\n",
    "plt.ylabel(\"Degree Centrality\")\n",
    "plt.show()"
   ],
   "id": "5953ac8656a10a5f",
   "outputs": [
    {
     "data": {
      "text/plain": [
       "<Figure size 800x800 with 1 Axes>"
      ],
      "image/png": "[encoded data removed]"
     },
     "metadata": {},
     "output_type": "display_data"
    }
   ],
   "execution_count": 35
  },
  {
   "metadata": {
    "ExecuteTime": {
     "end_time": "2024-09-05T03:31:36.062013Z",
     "start_time": "2024-09-04T19:05:41.110461Z"
    }
   },
   "cell_type": "code",
   "source": [
    "# calculate betweenness centrality\n",
    "betweenness_centrality = nx.betweenness_centrality(G)"
   ],
   "id": "9bb17fc46b419930",
   "outputs": [],
   "execution_count": 27
  },
  {
   "metadata": {
    "ExecuteTime": {
     "end_time": "2024-09-05T04:48:39.204482Z",
     "start_time": "2024-09-05T04:48:39.185111Z"
    }
   },
   "cell_type": "code",
   "source": [
    "bet_cen_nodes_df = pd.DataFrame(list(betweenness_centrality.items()), columns=['Node', 'Betweenness Centrality'])\n",
    "bet_cen_nodes_df.set_index('Node', inplace=True)"
   ],
   "id": "b28da7d282d62ac3",
   "outputs": [],
   "execution_count": 36
  },
  {
   "metadata": {
    "ExecuteTime": {
     "end_time": "2024-09-05T04:52:13.217392Z",
     "start_time": "2024-09-05T04:52:13.211460Z"
    }
   },
   "cell_type": "code",
   "source": "bet_cen_nodes_df.get('Betweenness Centrality').nlargest(20)",
   "id": "de6e59aead344192",
   "outputs": [
    {
     "data": {
      "text/plain": [
       "Node\n",
       "MONDO:0010543               0.843961\n",
       "PUBCHEM.COMPOUND:1060       0.471468\n",
       "MONDO:0005052               0.127275\n",
       "MONDO:0005147               0.117135\n",
       "MONDO:0005575               0.038072\n",
       "MONDO:0013995               0.035093\n",
       "MONDO:0005101               0.023846\n",
       "MONDO:0005265               0.013591\n",
       "MONDO:0021085               0.010704\n",
       "MONDO:0019182               0.009069\n",
       "MONDO:0005260               0.008269\n",
       "MONDO:0005148               0.007991\n",
       "MONDO:0012451               0.007285\n",
       "NCBITaxon:562               0.005761\n",
       "MONDO:0005090               0.004899\n",
       "MONDO:0008383               0.004599\n",
       "MONDO:0005335               0.004481\n",
       "MONDO:0009061               0.004334\n",
       "MONDO:0005011               0.003753\n",
       "PUBCHEM.COMPOUND:1551553    0.003317\n",
       "Name: Betweenness Centrality, dtype: float64"
      ]
     },
     "execution_count": 39,
     "metadata": {},
     "output_type": "execute_result"
    }
   ],
   "execution_count": 39
  },
  {
   "metadata": {
    "ExecuteTime": {
     "end_time": "2024-09-05T04:40:39.751587Z",
     "start_time": "2024-09-05T04:40:39.634470Z"
    }
   },
   "cell_type": "code",
   "source": [
    "plt.figure()\n",
    "plt.scatter(x=list(betweenness_centrality.values()), y=list(degree_centrality.values()))\n",
    "plt.xlabel(\"Betweenness Centrality\")\n",
    "plt.ylabel(\"Degree Centrality\")\n",
    "plt.show()"
   ],
   "id": "6bcf0e1f78e160b3",
   "outputs": [
    {
     "data": {
      "text/plain": [
       "<Figure size 640x480 with 1 Axes>"
      ],
      "image/png": "[encoded data removed]"
     },
     "metadata": {},
     "output_type": "display_data"
    }
   ],
   "execution_count": 32
  }
 ],
 "metadata": {
  "kernelspec": {
   "display_name": "Python 3 (ipykernel)",
   "language": "python",
   "name": "python3"
  },
  "language_info": {
   "codemirror_mode": {
    "name": "ipython",
    "version": 3
   },
   "file_extension": ".py",
   "mimetype": "text/x-python",
   "name": "python",
   "nbconvert_exporter": "python",
   "pygments_lexer": "ipython3",
   "version": "3.11.7"
  }
 },
 "nbformat": 4,
 "nbformat_minor": 5
}
